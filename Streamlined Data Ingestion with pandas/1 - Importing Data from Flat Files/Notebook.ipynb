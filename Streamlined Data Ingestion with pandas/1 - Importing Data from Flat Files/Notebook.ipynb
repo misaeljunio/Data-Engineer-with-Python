{
 "cells": [
  {
   "cell_type": "markdown",
   "id": "ec050dda",
   "metadata": {},
   "source": [
    "## Get data from CSVs\n",
    "\n",
    "In this exercise, you'll create a dataframe from a CSV file. The United States makes available CSV files containing tax data by ZIP or postal code, allowing us to analyze income information in different parts of the country. We'll focus on a subset of the data, vt_tax_data_2016.csv, which has select tax statistics by ZIP code in Vermont in 2016.\n",
    "\n",
    "To load the data, you'll need to import the pandas library, then read vt_tax_data_2016.csv and assign the resulting dataframe to a variable. Then we'll have a look at the data.\n",
    "\n",
    "---\n",
    "\n",
    "Instructions:\n",
    "\n",
    <li> "Import the `pandas` library as pd."</li>"\n",
    "\n",
    "\n",
    "2. Use `read_csv()` to `load vt_tax_data_2016.csv` and assign it to the variable `data`.\n",
    "\n",
    "\n",
    "3. View the first few lines of the dataframe with the `head()` method. This code has been written for you.\n",
    "     \n",
    "     "
   ]
  },
  {
   "cell_type": "code",
   "execution_count": null,
   "id": "1b72d361",
   "metadata": {},
   "outputs": [],
   "source": [
    "# Import pandas as pd\n",
    "import pandas as pd\n",
    "\n",
    "# Read the CSV and assign it to the variable data\n",
    "data = pd.read_csv('vt_tax_data_2016.csv')\n",
    "\n",
    "# View the first few lines of data\n",
    "print(data.head())"
   ]
  },
  {
   "cell_type": "markdown",
   "id": "26baf613",
   "metadata": {},
   "source": [
    "## Get data from other flat files\n",
    "\n",
    "While CSVs are the most common kind of flat file, you will sometimes find files that use different delimiters. `read_csv()` can load all of these with the help of the `sep` keyword argument. By default, `pandas` assumes that the separator is a comma, which is why we do not need to specify `sep` for CSVs.\n",
    "\n",
    "The version of Vermont tax data here is a tab-separated values file (TSV), so you will need to use `sep` to pass in the correct delimiter when reading the file. Remember that tabs are represented as `\\t`. Once the file has been loaded, the remaining code groups the `N1` field, which contains income range categories, to create a chart of tax returns by income category.\n",
    "\n",
    "---\n",
    "\n",
    "Instructions:\n",
    "\n",
    "1. Import `pandas` with the alias pd.\n",
    "\n",
    "\n",
    "2. Load `vt_tax_data_2016.tsv`, making sure to set the correct delimiter with the `sep` keyword argument."
   ]
  },
  {
   "cell_type": "code",
   "execution_count": null,
   "id": "9b7b55a6",
   "metadata": {},
   "outputs": [],
   "source": [
    "# Import pandas with the alias pd\n",
    "import pandas as pd\n",
    "\n",
    "# Load TSV using the sep keyword argument to set delimiter\n",
    "data = pd.read_csv('vt_tax_data_2016.tsv', sep='\\t')\n",
    "\n",
    "# Plot the total number of tax returns by income group\n",
    "counts = data.groupby(\"agi_stub\").N1.sum()\n",
    "counts.plot.bar()\n",
    "plt.show()"
   ]
  },
  {
   "cell_type": "markdown",
   "id": "4fc3965b",
   "metadata": {},
   "source": [
    "## Import a subset of columns\n",
    "\n",
    "The Vermont tax data contains 147 columns describing household composition, income sources, and taxes paid by ZIP code and income group. Most analyses don't need all these columns. In this exercise, you will create a dataframe with fewer variables using `read_csv()`s `usecols` argument.\n",
    "\n",
    "Let's focus on household composition to see if there are differences by geography and income level. To do this, we'll need columns on income group, ZIP code, tax return filing status (e.g., single or married), and dependents. The data uses codes for variable names, so the specific columns needed are in the instructions.\n",
    "\n",
    "`pandas` has already been imported as `pd`.\n",
    "\n",
    "---\n",
    "\n",
    "Instructions:\n",
    "\n",
    "1. Create a list of columns to use: `zipcode`, `agi_stub` (income group), `mars1` (number of single households), `MARS2` (number of households filing as married), and `NUMDEP` (number of dependents).\n",
    "\n",
    "\n",
    "2. Create a dataframe from `vt_tax_data_2016.csv` that uses only the selected columns."
   ]
  },
  {
   "cell_type": "code",
   "execution_count": null,
   "id": "577a6b06",
   "metadata": {},
   "outputs": [],
   "source": [
    "# Create list of columns to use\n",
    "cols = ['zipcode', 'agi_stub', 'mars1', 'MARS2', 'NUMDEP']\n",
    "\n",
    "# Create dataframe from csv using only selected columns\n",
    "data = pd.read_csv(\"vt_tax_data_2016.csv\", usecols=cols)\n",
    "\n",
    "# View counts of dependents and tax returns by income level\n",
    "print(data.groupby(\"agi_stub\").sum())"
   ]
  },
  {
   "cell_type": "markdown",
   "id": "2e8de960",
   "metadata": {},
   "source": [
    "## Import a file in chunks\n",
    "\n",
    "When working with large files, it can be easier to load and process the data in pieces. Let's practice this workflow on the Vermont tax data.\n",
    "\n",
    "The first 500 rows have been loaded as `vt_data_first500`. You'll get the next 500 rows. To do this, you'll employ several keyword arguments: `nrows` and `skiprows` to get the correct records, `header` to tell `pandas` the data does not have column names, and `names` to supply the missing column names. You'll also want to use the `list()` function to get column names from `vt_data_first500` to reuse.\n",
    "\n",
    "`pandas` has been imported as `pd`.\n",
    "\n",
    "---\n",
    "\n",
    "Instructions:\n",
    "\n",
    "1. Use `nrows` and `skiprows` to make a dataframe, `vt_data_next500`, with the next 500 rows.\n",
    "\n",
    "\n",
    "2. Set the `header` argument so that `pandas` knows there is no header row.\n",
    "\n",
    "\n",
    "3. Name the columns in `vt_data_next500` by supplying a list of `vt_data_first500`'s columns to the `names` argument."
   ]
  },
  {
   "cell_type": "code",
   "execution_count": null,
   "id": "c29c7c09",
   "metadata": {},
   "outputs": [],
   "source": [
    "# Create dataframe of next 500 rows with labeled columns\n",
    "vt_data_next500 = pd.read_csv(\"vt_tax_data_2016.csv\", \n",
    "                       \t\t  nrows=500,\n",
    "                       \t\t  skiprows=500,\n",
    "                       \t\t  header=None,\n",
    "                       \t\t  names=list(vt_data_first500))\n",
    "\n",
    "# View the Vermont dataframes to confirm they're different\n",
    "print(vt_data_first500.head())\n",
    "print(vt_data_next500.head())"
   ]
  },
  {
   "cell_type": "markdown",
   "id": "8dfeaf9f",
   "metadata": {},
   "source": [
    "## Specify data types\n",
    "\n",
    "When loading a flat file, `pandas` infers the best data type for each column. Sometimes its guesses are off, particularly for numbers that represent groups or qualities instead of quantities.\n",
    "\n",
    "Looking at the data dictionary for `vt_tax_data_2016.csv` reveals two such columns. The `agi_stub` column contains numbers that correspond to income categories, and `zipcode` has 5-digit values that should be strings -- treating them as integers means we lose leading 0s, which are meaningful. Let's specify the correct data types with the `dtype` argument.\n",
    "\n",
    "`pandas` has been imported for you as `pd`.\n",
    "\n",
    "---\n",
    "\n",
    "Instructions:\n",
    "\n",
    "1. Load `vt_tax_data_2016.csv` with no arguments and view the dataframe's `dtypes` attribute. Note the data types of `zipcode` and `agi_stub`."
   ]
  },
  {
   "cell_type": "code",
   "execution_count": null,
   "id": "0bb0f73e",
   "metadata": {},
   "outputs": [],
   "source": [
    "# Load csv with no additional arguments\n",
    "data = pd.read_csv(\"vt_tax_data_2016.csv\")\n",
    "\n",
    "# Print the data types\n",
    "print(data.dtypes)"
   ]
  },
  {
   "cell_type": "markdown",
   "id": "f196acea",
   "metadata": {},
   "source": [
    "2. Create a dictionary, `data_types`, specifying that `agi_stub` is `\"category\"` data and `zipcode` is string data.\n",
    "\n",
    "\n",
    "3. Reload the CSV with the `dtype` argument and the dictionary to set the correct column data types.\n",
    "\n",
    "\n",
    "4. View the dataframe's `dtypes` attribute."
   ]
  },
  {
   "cell_type": "code",
   "execution_count": null,
   "id": "811a2cbd",
   "metadata": {},
   "outputs": [],
   "source": [
    "# Create dict specifying data types for agi_stub and zipcode\n",
    "data_types = {\"agi_stub\": \"category\", \"zipcode\": str}\n",
    "\n",
    "# Load csv using dtype to set correct data types\n",
    "data = pd.read_csv(\"vt_tax_data_2016.csv\", dtype=data_types)\n",
    "\n",
    "# Print data types of resulting frame\n",
    "print(data.dtypes.head())"
   ]
  },
  {
   "cell_type": "markdown",
   "id": "efcbc4f0",
   "metadata": {},
   "source": [
    "## Set custom NA values\n",
    "\n",
    "Part of data exploration and cleaning consists of checking for missing or NA values and deciding how to account for them. This is easier when missing values are treated as their own data type. and there are `pandas` functions that specifically target such NA values. `pandas` automatically treats some values as missing, but we can pass additional NA indicators with the `na_values` argument. Here, you'll do this to ensure that invalid ZIP codes in the Vermont tax data are coded as NA.\n",
    "\n",
    "`pandas` has been imported as `pd`.\n",
    "\n",
    "---\n",
    "\n",
    "Instructions:\n",
    "\n",
    "1. Create a dictionary, `null_values`, specifying that `0`s in the `zipcode` column should be considered NA values.\n",
    "\n",
    "\n",
    "2. Load `vt_tax_data_2016.csv`, using the `na_values` argument and the dictionary to make sure invalid ZIP codes are treated as missing."
   ]
  },
  {
   "cell_type": "code",
   "execution_count": null,
   "id": "b5ecf6a1",
   "metadata": {},
   "outputs": [],
   "source": [
    "# Create dict specifying that 0s in zipcode are NA values\n",
    "null_values = {\"zipcode\": 0}\n",
    "\n",
    "# Load csv using na_values keyword argument\n",
    "data = pd.read_csv(\"vt_tax_data_2016.csv\", \n",
    "                   na_values=null_values)\n",
    "\n",
    "# View rows with NA ZIP codes\n",
    "print(data[data.zipcode.isna()])"
   ]
  },
  {
   "cell_type": "markdown",
   "id": "f57d9992",
   "metadata": {},
   "source": [
    "## Skip bad data\n",
    "\n",
    "In this exercise you'll use `read_csv()` parameters to handle files with bad data, like records with more values than columns. By default, trying to import such files triggers a specific error, `pandas.errors.ParserError`.\n",
    "\n",
    "Some lines in the Vermont tax data here are corrupted. In order to load the good lines, we need to tell `pandas` to skip errors. We also want `pandas` to warn us when it skips a line so we know the scope of data issues.\n",
    "\n",
    "`pandas` has been imported as `pd`. The exercise code will try to read the file. If there is a `pandas.errors.ParserError`, the code in the `except` block will run.\n",
    "\n",
    "---\n",
    "\n",
    "1. Try to import the file `vt_tax_data_2016_corrupt.csv` without any keyword arguments."
   ]
  },
  {
   "cell_type": "code",
   "execution_count": null,
   "id": "d21dd3d6",
   "metadata": {},
   "outputs": [],
   "source": [
    "try:\n",
    "  # Import the CSV without any keyword arguments\n",
    "  data = pd.read_csv(\"vt_tax_data_2016_corrupt.csv\")\n",
    "  \n",
    "  # View first 5 records\n",
    "  print(data.head())\n",
    "  \n",
    "except pd.errors.ParserError:\n",
    "    print(\"Your data contained rows that could not be parsed.\")"
   ]
  },
  {
   "cell_type": "markdown",
   "id": "e5d728c5",
   "metadata": {},
   "source": [
    "2. Import `vt_tax_data_2016_corrupt.csv` with the `error_bad_lines` parameter set to skip bad records."
   ]
  },
  {
   "cell_type": "code",
   "execution_count": null,
   "id": "951164b5",
   "metadata": {},
   "outputs": [],
   "source": [
    "try:\n",
    "  # Import CSV with error_bad_lines set to skip bad records\n",
    "  data = pd.read_csv(\"vt_tax_data_2016_corrupt.csv\", \n",
    "                     error_bad_lines=False)\n",
    "  \n",
    "  # View first 5 records\n",
    "  print(data.head())\n",
    "  \n",
    "except pd.errors.ParserError:\n",
    "    print(\"Your data contained rows that could not be parsed.\")"
   ]
  },
  {
   "cell_type": "markdown",
   "id": "447eaba5",
   "metadata": {},
   "source": [
    "3. Update the import with the `warn_bad_lines` parameter set to issue a warning whenever a bad record is skipped."
   ]
  },
  {
   "cell_type": "code",
   "execution_count": null,
   "id": "9198418b",
   "metadata": {},
   "outputs": [],
   "source": [
    "try:\n",
    "  # Set warn_bad_lines to issue warnings about bad records\n",
    "  data = pd.read_csv(\"vt_tax_data_2016_corrupt.csv\", \n",
    "                     error_bad_lines=False, \n",
    "                     warn_bad_lines=True)\n",
    "  \n",
    "  # View first 5 records\n",
    "  print(data.head())\n",
    "  \n",
    "except pd.errors.ParserError:\n",
    "    print(\"Your data contained rows that could not be parsed.\")"
   ]
  }
 ],
 "metadata": {
  "kernelspec": {
   "display_name": "Python 3 (ipykernel)",
   "language": "python",
   "name": "python3"
  },
  "language_info": {
   "codemirror_mode": {
    "name": "ipython",
    "version": 3
   },
   "file_extension": ".py",
   "mimetype": "text/x-python",
   "name": "python",
   "nbconvert_exporter": "python",
   "pygments_lexer": "ipython3",
   "version": "3.9.2"
  }
 },
 "nbformat": 4,
 "nbformat_minor": 5
}
