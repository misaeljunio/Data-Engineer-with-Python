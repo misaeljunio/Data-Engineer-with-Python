{
 "cells": [
  {
   "cell_type": "markdown",
   "id": "f0b5c17a",
   "metadata": {},
   "source": [
    "## Print the return type\n",
    "\n",
    "You are debugging a package that you've been working on with your friends. Something weird is happening with the data being returned from one of your functions, but you're not even sure which function is causing the trouble. You know that sometimes bugs can sneak into your code when you are expecting a function to return one thing, and it returns something different. For instance, if you expect a function to return a numpy array, but it returns a list, you can get unexpected behavior. To ensure this is not what is causing the trouble, you decide to write a decorator, print_return_type(), that will print out the type of the variable that gets returned from every call of any function it is decorating.\n",
    "\n",
    "\n",
    "---\n",
    "\n",
    "\n",
    "Instructions:\n",
    "\n",
    "\n",
    "- Create a nested function, wrapper(), that will become the new decorated function.\n",
    "\n",
    "\n",
    "- Call the function being decorated.\n",
    "\n",
    "\n",
    "- Return the new decorated function."
   ]
  },
  {
   "cell_type": "code",
   "execution_count": null,
   "id": "e5146492",
   "metadata": {},
   "outputs": [],
   "source": [
    "def print_return_type(func):\n",
    "  # Define wrapper(), the decorated function\n",
    "  def wrapper(*args, **kwargs):\n",
    "    # Call the function being decorated\n",
    "    result = func(*args, **kwargs)\n",
    "    print('{}() returned type {}'.format(\n",
    "      func.__name__, type(result)\n",
    "    ))\n",
    "    return result\n",
    "  # Return the decorated function\n",
    "  return wrapper\n",
    "  \n",
    "@print_return_type\n",
    "def foo(value):\n",
    "  return value\n",
    "  \n",
    "print(foo(42))\n",
    "print(foo([1, 2, 3]))\n",
    "print(foo({'a': 42}))"
   ]
  },
  {
   "cell_type": "markdown",
   "id": "772f17bb",
   "metadata": {},
   "source": [
    "## Counter\n",
    "\n",
    "You're working on a new web app, and you are curious about how many times each of the functions in it gets called. So you decide to write a decorator that adds a counter to each function that you decorate. You could use this information in the future to determine whether there are sections of code that you could remove because they are no longer being used by the app.\n",
    "\n",
    "\n",
    "---\n",
    "\n",
    "\n",
    "Instructions:\n",
    "\n",
    "\n",
    "- Call the function being decorated and return the result.\n",
    "\n",
    "\n",
    "- Return the new decorated function.\n",
    "\n",
    "\n",
    "- Decorate foo() with the counter() decorator."
   ]
  },
  {
   "cell_type": "code",
   "execution_count": null,
   "id": "be8f264a",
   "metadata": {},
   "outputs": [],
   "source": [
    "def counter(func):\n",
    "  def wrapper(*args, **kwargs):\n",
    "    wrapper.count += 1\n",
    "    # Call the function being decorated and return the result\n",
    "    return func(*args, **kwargs)\n",
    "  wrapper.count = 0\n",
    "  # Return the new decorated function\n",
    "  return wrapper\n",
    "\n",
    "# Decorate foo() with the counter() decorator\n",
    "@counter\n",
    "def foo():\n",
    "  print('calling foo()')\n",
    "  \n",
    "foo()\n",
    "foo()\n",
    "\n",
    "print('foo() was called {} times.'.format(foo.count))"
   ]
  },
  {
   "cell_type": "markdown",
   "id": "1346bd95",
   "metadata": {},
   "source": [
    "## Preserving docstrings when decorating functions\n",
    "\n",
    "Your friend has come to you with a problem. They've written some nifty decorators and added them to the functions in the open-source library they've been working on. However, they were running some tests and discovered that all of the docstrings have mysteriously disappeared from their decorated functions. Show your friend how to preserve docstrings and other metadata when writing decorators.\n",
    "\n",
    "\n",
    "---\n",
    "\n",
    "\n",
    "Instructions:\n",
    "\n",
    "\n",
    "- Decorate print_sum() with the add_hello() decorator to replicate the issue that your friend saw - that the docstring disappears."
   ]
  },
  {
   "cell_type": "code",
   "execution_count": null,
   "id": "c3679733",
   "metadata": {},
   "outputs": [],
   "source": [
    "def add_hello(func):\n",
    "  def wrapper(*args, **kwargs):\n",
    "    print('Hello')\n",
    "    return func(*args, **kwargs)\n",
    "  return wrapper\n",
    "\n",
    "# Decorate print_sum() with the add_hello() decorator\n",
    "@add_hello\n",
    "def print_sum(a, b):\n",
    "  \"\"\"Adds two numbers and prints the sum\"\"\"\n",
    "  print(a + b)\n",
    "  \n",
    "print_sum(10, 20)\n",
    "print_sum_docstring = print_sum.__doc__\n",
    "print(print_sum_docstring)"
   ]
  },
  {
   "cell_type": "markdown",
   "id": "ba853cc1",
   "metadata": {},
   "source": [
    "- To show your friend that they are printing the wrapper() function's docstring, not the print_sum() docstring, add the following docstring to wrapper():\n",
    "\n",
    "`\"\"\"Print 'hello' and then call the decorated function.\"\"\"`\n"
   ]
  },
  {
   "cell_type": "code",
   "execution_count": null,
   "id": "a88a9f39",
   "metadata": {},
   "outputs": [],
   "source": [
    "def add_hello(func):\n",
    "  # Add a docstring to wrapper\n",
    "  def wrapper(*args, **kwargs):\n",
    "    \"\"\"Print 'hello' and then call the decorated function.\"\"\"\n",
    "    print('Hello')\n",
    "    return func(*args, **kwargs)\n",
    "  return wrapper\n",
    "\n",
    "@add_hello\n",
    "def print_sum(a, b):\n",
    "  \"\"\"Adds two numbers and prints the sum\"\"\"\n",
    "  print(a + b)\n",
    "  \n",
    "print_sum(10, 20)\n",
    "print_sum_docstring = print_sum.__doc__\n",
    "print(print_sum_docstring)"
   ]
  },
  {
   "cell_type": "markdown",
   "id": "24705cd2",
   "metadata": {},
   "source": [
    "- Import a function that will allow you to add the metadata from print_sum() to the decorated version of print_sum()."
   ]
  },
  {
   "cell_type": "code",
   "execution_count": null,
   "id": "afed1919",
   "metadata": {},
   "outputs": [],
   "source": [
    "# Import the function you need to fix the problem\n",
    "from functools import wraps\n",
    "\n",
    "def add_hello(func):\n",
    "  def wrapper(*args, **kwargs):\n",
    "    \"\"\"Print 'hello' and then call the decorated function.\"\"\"\n",
    "    print('Hello')\n",
    "    return func(*args, **kwargs)\n",
    "  return wrapper\n",
    "  \n",
    "@add_hello\n",
    "def print_sum(a, b):\n",
    "  \"\"\"Adds two numbers and prints the sum\"\"\"\n",
    "  print(a + b)\n",
    "  \n",
    "print_sum(10, 20)\n",
    "print_sum_docstring = print_sum.__doc__\n",
    "print(print_sum_docstring)"
   ]
  },
  {
   "cell_type": "markdown",
   "id": "5c83c88b",
   "metadata": {},
   "source": [
    "- Finally, decorate wrapper() so that the metadata from func() is preserved in the new decorated function."
   ]
  },
  {
   "cell_type": "code",
   "execution_count": null,
   "id": "885e37ab",
   "metadata": {},
   "outputs": [],
   "source": [
    "from functools import wraps\n",
    "\n",
    "def add_hello(func):\n",
    "  # Decorate wrapper() so that it keeps func()'s metadata\n",
    "  @wraps(func)\n",
    "  def wrapper(*args, **kwargs):\n",
    "    \"\"\"Print 'hello' and then call the decorated function.\"\"\"\n",
    "    print('Hello')\n",
    "    return func(*args, **kwargs)\n",
    "  return wrapper\n",
    "  \n",
    "@add_hello\n",
    "def print_sum(a, b):\n",
    "  \"\"\"Adds two numbers and prints the sum\"\"\"\n",
    "  print(a + b)\n",
    "  \n",
    "print_sum(10, 20)\n",
    "print_sum_docstring = print_sum.__doc__\n",
    "print(print_sum_docstring)"
   ]
  }
 ],
 "metadata": {
  "kernelspec": {
   "display_name": "Python 3 (ipykernel)",
   "language": "python",
   "name": "python3"
  },
  "language_info": {
   "codemirror_mode": {
    "name": "ipython",
    "version": 3
   },
   "file_extension": ".py",
   "mimetype": "text/x-python",
   "name": "python",
   "nbconvert_exporter": "python",
   "pygments_lexer": "ipython3",
   "version": "3.9.2"
  }
 },
 "nbformat": 4,
 "nbformat_minor": 5
}
