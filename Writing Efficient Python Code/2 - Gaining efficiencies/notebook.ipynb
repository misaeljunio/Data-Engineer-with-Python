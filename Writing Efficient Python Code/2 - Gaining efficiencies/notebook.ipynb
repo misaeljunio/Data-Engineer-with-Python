{
 "cells": [
  {
   "cell_type": "markdown",
   "id": "2d2b0dc3",
   "metadata": {},
   "source": [
    "## Combining Pokémon names and types\n",
    "\n",
    "Three lists have been loaded into your session from a dataset that contains 720 Pokémon:\n",
    "\n",
    "- The names list contains the names of each Pokémon.\n",
    "- The primary_types list contains the corresponding primary type of each Pokémon.\n",
    "- The secondary_types list contains the corresponding secondary type of each Pokémon (nan if the Pokémon has only one type).\n",
    "\n",
    "We want to combine each Pokémon's name and types together so that you easily see a description of each Pokémon. Practice using zip() to accomplish this task.\n",
    "\n",
    "\n",
    "---\n",
    "\n",
    "\n",
    "Instructions:\n",
    "\n",
    "\n",
    "- Combine the names list and the primary_types list into a new list object (called names_type1)."
   ]
  },
  {
   "cell_type": "code",
   "execution_count": null,
   "id": "23e9e20a",
   "metadata": {},
   "outputs": [],
   "source": [
    "# Combine names and primary_types\n",
    "names_type1 = [*zip(names, primary_types)]\n",
    "\n",
    "print(*names_type1[:5], sep='\\n')"
   ]
  },
  {
   "cell_type": "markdown",
   "id": "b989264a",
   "metadata": {},
   "source": [
    "- Combine names, primary_types, and secondary_types (in that order) using zip() and unpack the zip object into a new list."
   ]
  },
  {
   "cell_type": "code",
   "execution_count": null,
   "id": "d11378cd",
   "metadata": {},
   "outputs": [],
   "source": [
    "# Combine all three lists together\n",
    "names_types = [*zip(names, primary_types, secondary_types)]\n",
    "\n",
    "print(*names_types[:5], sep='\\n')"
   ]
  },
  {
   "cell_type": "markdown",
   "id": "2ce50bfb",
   "metadata": {},
   "source": [
    "- Use zip() to combine the first five items from the names list and the first three items from the primary_types list."
   ]
  },
  {
   "cell_type": "code",
   "execution_count": null,
   "id": "c3c020a4",
   "metadata": {},
   "outputs": [],
   "source": [
    "# Combine five items from names and three items from primary_types\n",
    "differing_lengths = [*zip(names[:5], primary_types[:3])]\n",
    "\n",
    "print(*differing_lengths, sep='\\n')"
   ]
  },
  {
   "cell_type": "markdown",
   "id": "f5827b6b",
   "metadata": {},
   "source": [
    "## Counting Pokémon from a sample\n",
    "\n",
    "A sample of 500 Pokémon has been generated, and three lists from this sample have been loaded into your session:\n",
    "\n",
    "- The names list contains the names of each Pokémon in the sample.\n",
    "- The primary_types list containing the corresponding primary type of each Pokémon in the sample.\n",
    "- The generations list contains the corresponding generation of each Pokémon in the sample.\n",
    "\n",
    "You want to quickly gather a few counts from these lists to better understand the sample that was generated. Use Counter from the collections module to explore what types of Pokémon are in your sample, what generations they come from, and how many Pokémon have a name that starts with a specific letter.\n",
    "\n",
    "Counter has already been imported into your session for convenience.\n",
    "\n",
    "\n",
    "---\n",
    "\n",
    "\n",
    "Instructions:\n",
    "\n",
    "\n",
    "- Collect the count of each primary type from the sample.\n",
    "\n",
    "\n",
    "- Collect the count of each generation from the sample.\n",
    "\n",
    "\n",
    "- Use list comprehension to collect the first letter of each Pokémon in the names list. Save this as starting_letters.\n",
    "\n",
    "\n",
    "- Collect the count of starting letters from the starting_letters list. Save this as starting_letters_count."
   ]
  },
  {
   "cell_type": "code",
   "execution_count": null,
   "id": "601dae90",
   "metadata": {},
   "outputs": [],
   "source": [
    "# Collect the count of primary types\n",
    "type_count = Counter(primary_types)\n",
    "print(type_count, '\\n')\n",
    "\n",
    "# Collect the count of generations\n",
    "gen_count = Counter(generations)\n",
    "print(gen_count, '\\n')\n",
    "\n",
    "# Use list comprehension to get each Pokémon's starting letter\n",
    "starting_letters = [name[0] for name in names]\n",
    "\n",
    "# Collect the count of Pokémon for each starting_letter\n",
    "starting_letters_count = Counter(starting_letters)\n",
    "print(starting_letters_count)"
   ]
  },
  {
   "cell_type": "markdown",
   "id": "22a79152",
   "metadata": {},
   "source": [
    "## Combinations of Pokémon\n",
    "\n",
    "Ash, a Pokémon trainer, encounters a group of five Pokémon. These Pokémon have been loaded into a list within your session (called pokemon) and printed into the console for your convenience.\n",
    "\n",
    "Ash would like to try to catch some of these Pokémon, but his Pokédex can only store two Pokémon at a time. Let's use combinations from the itertools module to see what the possible pairs of Pokémon are that Ash could catch.\n",
    "\n",
    "\n",
    "---\n",
    "\n",
    "\n",
    "Instructions:\n",
    "\n",
    "\n",
    "- Import combinations from itertools.\n",
    "\n",
    "\n",
    "- Create a combinations object called combos_obj that contains all possible pairs of Pokémon from the pokemon list. A pair has 2 Pokémon.\n",
    "\n",
    "\n",
    "- Unpack combos_obj into a list called combos_2.\n",
    "\n",
    "\n",
    "- Ash upgraded his Pokédex so that it can now store four Pokémon. Use combinations to collect all possible combinations of 4 different Pokémon. Save these combinations directly into a list called combos_4 using the star character (*)."
   ]
  },
  {
   "cell_type": "code",
   "execution_count": null,
   "id": "eba90bcf",
   "metadata": {},
   "outputs": [],
   "source": [
    "# Import combinations from itertools\n",
    "from itertools import combinations\n",
    "\n",
    "# Create a combination object with pairs of Pokémon\n",
    "combos_obj = combinations(pokemon, 2)\n",
    "print(type(combos_obj), '\\n')\n",
    "\n",
    "# Convert combos_obj to a list by unpacking\n",
    "combos_2 = [*combos_obj]\n",
    "print(combos_2, '\\n')\n",
    "\n",
    "# Collect all possible combinations of 4 Pokémon directly into a list\n",
    "combos_4 = [*combinations(pokemon, 4)]\n",
    "print(combos_4)"
   ]
  },
  {
   "cell_type": "markdown",
   "id": "6cb8ecce",
   "metadata": {},
   "source": [
    "## Comparing Pokédexes\n",
    "\n",
    "Two Pokémon trainers, Ash and Misty, would like to compare their individual collections of Pokémon. Let's see what Pokémon they have in common and what Pokémon Ash has that Misty does not.\n",
    "\n",
    "Both Ash and Misty's Pokédex (their collection of Pokémon) have been loaded into your session as lists called ash_pokedex and misty_pokedex. They have been printed into the console for your convenience.\n",
    "\n",
    "\n",
    "---\n",
    "\n",
    "\n",
    "Instructions:\n",
    "\n",
    "\n",
    "- Convert both lists (ash_pokedex and misty_pokedex) to sets called ash_set and misty_set respectively.\n",
    "\n",
    "\n",
    "- Find the Pokémon that both Ash and Misty have in common using a set method.\n",
    "\n",
    "\n",
    "- Find the Pokémon that are within Ash's Pokédex but are not within Misty's Pokédex with a set method.\n",
    "\n",
    "\n",
    "- Use a set method to find the Pokémon that are unique to either Ash or Misty (i.e., the Pokémon that exist in exactly one of the Pokédexes but not both)."
   ]
  },
  {
   "cell_type": "code",
   "execution_count": null,
   "id": "e75d476a",
   "metadata": {},
   "outputs": [],
   "source": [
    "# Convert both lists to sets\n",
    "ash_set = set(ash_pokedex)\n",
    "misty_set = set(misty_pokedex)\n",
    "\n",
    "# Find the Pokémon that exist in both sets\n",
    "both = ash_set.intersection(misty_set)\n",
    "print(both)\n",
    "\n",
    "# Find the Pokémon that Ash has and Misty does not have\n",
    "ash_only = ash_set.difference(misty_set)\n",
    "print(ash_only)\n",
    "\n",
    "# Find the Pokémon that are in only one set (not both)\n",
    "unique_to_set = ash_set.symmetric_difference(misty_set)\n",
    "print(unique_to_set)"
   ]
  },
  {
   "cell_type": "markdown",
   "id": "db979366",
   "metadata": {},
   "source": [
    "## Searching for Pokémon\n",
    "\n",
    "Two Pokémon trainers, Ash and Brock, have a collection of ten Pokémon each. Each trainer's Pokédex (their collection of Pokémon) has been loaded into your session as lists called ash_pokedex and brock_pokedex respectively.\n",
    "\n",
    "You'd like to see if certain Pokémon are members of either Ash or Brock's Pokédex.\n",
    "\n",
    "Let's compare using a set versus using a list when performing this membership testing.\n",
    "\n",
    "\n",
    "---\n",
    "\n",
    "\n",
    "Instructions:\n",
    "\n",
    "\n",
    "- Convert Brock's Pokédex list (brock_pokedex) to a set called brock_pokedex_set."
   ]
  },
  {
   "cell_type": "code",
   "execution_count": null,
   "id": "c4a4f4b2",
   "metadata": {},
   "outputs": [],
   "source": [
    "# Convert Brock's Pokédex to a set\n",
    "brock_pokedex_set = set(brock_pokedex)\n",
    "print(brock_pokedex_set)"
   ]
  },
  {
   "cell_type": "markdown",
   "id": "cabb184d",
   "metadata": {},
   "source": [
    "- Check if 'Psyduck' is in Ash's Pokédex list (ash_pokedex) and if 'Psyduck' is in Brock's Pokédex set (brock_pokedex_set)."
   ]
  },
  {
   "cell_type": "code",
   "execution_count": null,
   "id": "295143ad",
   "metadata": {},
   "outputs": [],
   "source": [
    "# Convert Brock's Pokédex to a set\n",
    "brock_pokedex_set = set(brock_pokedex)\n",
    "print(brock_pokedex_set)\n",
    "\n",
    "# Check if Psyduck is in Ash's list and Brock's set\n",
    "print('Psyduck' in ash_pokedex)\n",
    "print('Psyduck' in brock_pokedex_set)"
   ]
  },
  {
   "cell_type": "markdown",
   "id": "15d59e36",
   "metadata": {},
   "source": [
    "- Check if 'Machop' is in Ash's Pokédex list (ash_pokedex) and if 'Machop' is in Brock's Pokédex set (brock_pokedex_set)."
   ]
  },
  {
   "cell_type": "code",
   "execution_count": null,
   "id": "3153825b",
   "metadata": {},
   "outputs": [],
   "source": [
    "# Convert Brock's Pokédex to a set\n",
    "brock_pokedex_set = set(brock_pokedex)\n",
    "print(brock_pokedex_set)\n",
    "\n",
    "# Check if Psyduck is in Ash's list and Brock's set\n",
    "print('Psyduck' in ash_pokedex)\n",
    "print('Psyduck' in brock_pokedex_set)\n",
    "\n",
    "# Check if Machop is in Ash's list and Brock's set\n",
    "print('Machop' in ash_pokedex)\n",
    "print('Machop' in brock_pokedex_set)"
   ]
  },
  {
   "cell_type": "markdown",
   "id": "cf56258a",
   "metadata": {},
   "source": [
    "## Gathering unique Pokémon\n",
    "\n",
    "A sample of 500 Pokémon has been created with replacement (meaning a Pokémon could be selected more than once and duplicates exist within the sample).\n",
    "\n",
    "Three lists have been loaded into your session:\n",
    "\n",
    "- The names list contains the names of each Pokémon in the sample.\n",
    "- The primary_types list containing the corresponding primary type of each Pokémon in the sample.\n",
    "- The generations list contains the corresponding generation of each Pokémon in the sample.\n",
    "\n",
    "The below function was written to gather unique values from each list:\n",
    "\n",
    "```\n",
    "def find_unique_items(data):\n",
    "    uniques = []\n",
    "\n",
    "    for item in data:\n",
    "        if item not in uniques:\n",
    "            uniques.append(item)\n",
    "\n",
    "    return uniques\n",
    "```\n",
    "\n",
    "Let's compare the above function to using the set data type for collecting unique items.\n",
    "\n",
    "\n",
    "---\n",
    "\n",
    "\n",
    "Instructions:\n",
    "\n",
    "\n",
    "- Use the provided function to collect the unique Pokémon in the names list. Save this as uniq_names_func."
   ]
  },
  {
   "cell_type": "code",
   "execution_count": null,
   "id": "7237477c",
   "metadata": {},
   "outputs": [],
   "source": [
    "# Use the provided function to collect unique Pokémon names\n",
    "uniq_names_func = find_unique_items(names)\n",
    "print(len(uniq_names_func))"
   ]
  },
  {
   "cell_type": "markdown",
   "id": "c1de0db8",
   "metadata": {},
   "source": [
    "- Use a set data type to collect the unique Pokémon in the names list. Save this as uniq_names_set."
   ]
  },
  {
   "cell_type": "code",
   "execution_count": null,
   "id": "78b7a81c",
   "metadata": {},
   "outputs": [],
   "source": [
    "# Use find_unique_items() to collect unique Pokémon names\n",
    "uniq_names_func = find_unique_items(names)\n",
    "print(len(uniq_names_func))\n",
    "\n",
    "# Convert the names list to a set to collect unique Pokémon names\n",
    "uniq_names_set = set(uniq_names_func)\n",
    "print(len(uniq_names_set))\n",
    "\n",
    "# Check that both unique collections are equivalent\n",
    "print(sorted(uniq_names_func) == sorted(uniq_names_set))"
   ]
  },
  {
   "cell_type": "markdown",
   "id": "f45758ae",
   "metadata": {},
   "source": [
    "- Use the most efficient approach for gathering unique items to collect the unique Pokémon types (from the primary_types list) and Pokémon generations (from the generations list)."
   ]
  },
  {
   "cell_type": "code",
   "execution_count": null,
   "id": "5f085363",
   "metadata": {},
   "outputs": [],
   "source": [
    "# Use find_unique_items() to collect unique Pokémon names\n",
    "uniq_names_func = find_unique_items(names)\n",
    "print(len(uniq_names_func))\n",
    "\n",
    "# Convert the names list to a set to collect unique Pokémon names\n",
    "uniq_names_set = set(names)\n",
    "print(len(uniq_names_set))\n",
    "\n",
    "# Check that both unique collections are equivalent\n",
    "print(sorted(uniq_names_func) == sorted(uniq_names_set))\n",
    "\n",
    "# Use the best approach to collect unique primary types and generations\n",
    "uniq_types = set(primary_types)\n",
    "uniq_gens = set(generations)\n",
    "print(uniq_types, uniq_gens, sep='\\n') "
   ]
  }
 ],
 "metadata": {
  "kernelspec": {
   "display_name": "Python 3 (ipykernel)",
   "language": "python",
   "name": "python3"
  },
  "language_info": {
   "codemirror_mode": {
    "name": "ipython",
    "version": 3
   },
   "file_extension": ".py",
   "mimetype": "text/x-python",
   "name": "python",
   "nbconvert_exporter": "python",
   "pygments_lexer": "ipython3",
   "version": "3.9.2"
  }
 },
 "nbformat": 4,
 "nbformat_minor": 5
}
