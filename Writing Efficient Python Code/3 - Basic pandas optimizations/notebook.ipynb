{
 "cells": [
  {
   "cell_type": "markdown",
   "id": "7a55549a",
   "metadata": {},
   "source": [
    "## Iterating with .iterrows()\n",
    "\n",
    "In the video, we discussed that .iterrows() returns each DataFrame row as a tuple of (index, pandas Series) pairs. But, what does this mean? Let's explore with a few coding exercises.\n",
    "\n",
    "A pandas DataFrame has been loaded into your session called pit_df. This DataFrame contains the stats for the Major League Baseball team named the Pittsburgh Pirates (abbreviated as 'PIT') from the year 2008 to the year 2012. It has been printed into your console for convenience.\n",
    "\n",
    "\n",
    "---\n",
    "\n",
    "\n",
    "Instructions:\n",
    "\n",
    "\n",
    "- Use .iterrows() to loop over pit_df and print each row. Save the first item from .iterrows() as i and the second as row."
   ]
  },
  {
   "cell_type": "code",
   "execution_count": null,
   "id": "da5b5eca",
   "metadata": {},
   "outputs": [],
   "source": [
    "# Iterate over pit_df and print each row\n",
    "for i, row in pit_df.iterrows():\n",
    "    print(row)"
   ]
  },
  {
   "cell_type": "markdown",
   "id": "23f04b70",
   "metadata": {},
   "source": [
    "- Add two lines to the loop: one before print(row) to print each index variable and one after to print each row's type."
   ]
  },
  {
   "cell_type": "code",
   "execution_count": null,
   "id": "88d2c55b",
   "metadata": {},
   "outputs": [],
   "source": [
    "# Iterate over pit_df and print each index variable and then each row\n",
    "for i,row in pit_df.iterrows():\n",
    "    print(i)\n",
    "    print(row)\n",
    "    print(type(row))"
   ]
  },
  {
   "cell_type": "markdown",
   "id": "e0afeaf3",
   "metadata": {},
   "source": [
    "- Instead of using i and row in the for statement to store the output of .iterrows(), use one variable named row_tuple."
   ]
  },
  {
   "cell_type": "code",
   "execution_count": null,
   "id": "b1969614",
   "metadata": {},
   "outputs": [],
   "source": [
    "# Use one variable instead of two to store the result of .iterrows()\n",
    "for row_tuple in pit_df.iterrows():\n",
    "    print(row_tuple)"
   ]
  },
  {
   "cell_type": "markdown",
   "id": "e92211a9",
   "metadata": {},
   "source": [
    "- Add a line in the for loop to print the type of each row_tuple."
   ]
  },
  {
   "cell_type": "code",
   "execution_count": null,
   "id": "d3cce5ba",
   "metadata": {},
   "outputs": [],
   "source": [
    "# Print the row and type of each row\n",
    "for row_tuple in pit_df.iterrows():\n",
    "    print(row_tuple)\n",
    "    print(type(row_tuple))"
   ]
  },
  {
   "cell_type": "markdown",
   "id": "b74fc51d",
   "metadata": {},
   "source": [
    "## Run differentials with .iterrows()\n",
    "\n",
    "You've been hired by the San Francisco Giants as an analyst—congrats! The team's owner wants you to calculate a metric called the run differential for each season from the year 2008 to 2012. This metric is calculated by subtracting the total number of runs a team allowed in a season from the team's total number of runs scored in a season. 'RS' means runs scored and 'RA' means runs allowed.\n",
    "\n",
    "The below function calculates this metric:\n",
    "\n",
    "```\n",
    "def calc_run_diff(runs_scored, runs_allowed):\n",
    "\n",
    "    run_diff = runs_scored - runs_allowed\n",
    "\n",
    "    return run_diff\n",
    "```\n",
    "\n",
    "A DataFrame has been loaded into your session as giants_df and printed into the console. Let's practice using .iterrows() to add a run differential column to this DataFrame.\n",
    "\n",
    "\n",
    "---\n",
    "\n",
    "\n",
    "Instructions:\n",
    "\n",
    "\n",
    "- Create an empty list called run_diffs that will be used to store the run differentials you will calculate."
   ]
  },
  {
   "cell_type": "code",
   "execution_count": null,
   "id": "3ef1d2ca",
   "metadata": {},
   "outputs": [],
   "source": [
    "# Create an empty list to store run differentials\n",
    "run_diffs = []"
   ]
  },
  {
   "cell_type": "markdown",
   "id": "60f812d6",
   "metadata": {},
   "source": [
    "- Write a for loop that uses .iterrows() to loop over giants_df and collects each row's runs scored and runs allowed."
   ]
  },
  {
   "cell_type": "code",
   "execution_count": null,
   "id": "075db9e2",
   "metadata": {},
   "outputs": [],
   "source": [
    "# Create an empty list to store run differentials\n",
    "run_diffs = []\n",
    "\n",
    "# Write a for loop and collect runs allowed and runs scored for each row\n",
    "for i, row in giants_df.iterrows():\n",
    "    runs_scored = row['RS']\n",
    "    runs_allowed = row['RA']"
   ]
  },
  {
   "cell_type": "markdown",
   "id": "62f50936",
   "metadata": {},
   "source": [
    "- Add a line to the for loop that uses the provided function to calculate each row's run differential."
   ]
  },
  {
   "cell_type": "code",
   "execution_count": null,
   "id": "3e61bb34",
   "metadata": {},
   "outputs": [],
   "source": [
    "# Create an empty list to store run differentials\n",
    "run_diffs = []\n",
    "\n",
    "# Write a for loop and collect runs allowed and runs scored for each row\n",
    "for i,row in giants_df.iterrows():\n",
    "    runs_scored = row['RS']\n",
    "    runs_allowed = row['RA']\n",
    "    \n",
    "    # Use the provided function to calculate run_diff for each row\n",
    "    run_diff = calc_run_diff(runs_scored, runs_allowed)"
   ]
  },
  {
   "cell_type": "markdown",
   "id": "973b6715",
   "metadata": {},
   "source": [
    "- Add a line to the loop that appends each row's run differential to the run_diffs list."
   ]
  },
  {
   "cell_type": "code",
   "execution_count": null,
   "id": "b984c545",
   "metadata": {},
   "outputs": [],
   "source": [
    "# Create an empty list to store run differentials\n",
    "run_diffs = []\n",
    "\n",
    "# Write a for loop and collect runs allowed and runs scored for each row\n",
    "for i,row in giants_df.iterrows():\n",
    "    runs_scored = row['RS']\n",
    "    runs_allowed = row['RA']\n",
    "    \n",
    "    # Use the provided function to calculate run_diff for each row\n",
    "    run_diff = calc_run_diff(runs_scored, runs_allowed)\n",
    "    \n",
    "    # Append each run differential to the output list\n",
    "    run_diffs.append(run_diff)\n",
    "\n",
    "giants_df['RD'] = run_diffs\n",
    "print(giants_df)"
   ]
  },
  {
   "cell_type": "markdown",
   "id": "cd1f08fc",
   "metadata": {},
   "source": [
    "## Iterating with .itertuples()\n",
    "\n",
    "Remember, .itertuples() returns each DataFrame row as a special data type called a namedtuple. You can look up an attribute within a namedtuple with a special syntax. Let's practice working with namedtuples.\n",
    "\n",
    "A pandas DataFrame has been loaded into your session called rangers_df. This DataFrame contains the stats ('Team', 'League', 'Year', 'RS', 'RA', 'W', 'G', and 'Playoffs') for the Major League baseball team named the Texas Rangers (abbreviated as 'TEX').\n",
    "\n",
    "\n",
    "---\n",
    "\n",
    "\n",
    "Instructions:\n",
    "\n",
    "\n",
    "- Use .itertuples() to loop over rangers_df and print each row."
   ]
  },
  {
   "cell_type": "code",
   "execution_count": null,
   "id": "62c890cf",
   "metadata": {},
   "outputs": [],
   "source": [
    "# Loop over the DataFrame and print each row\n",
    "for row_namedtuple in rangers_df.itertuples():\n",
    "  print(row_namedtuple)"
   ]
  },
  {
   "cell_type": "markdown",
   "id": "6df7d337",
   "metadata": {},
   "source": [
    "- Loop over rangers_df with .itertuples() and save each row's Index, Year, and Wins (W) attribute as i, year, and wins."
   ]
  },
  {
   "cell_type": "code",
   "execution_count": null,
   "id": "13afee16",
   "metadata": {},
   "outputs": [],
   "source": [
    "# Loop over the DataFrame and print each row's Index, Year and Wins (W)\n",
    "for row in rangers_df.itertuples():\n",
    "  i = row.Index\n",
    "  year = row.Year\n",
    "  wins = row.W\n",
    "  print(i, year, wins)"
   ]
  },
  {
   "cell_type": "markdown",
   "id": "ab442cbb",
   "metadata": {},
   "source": [
    "- Now, loop over rangers_df and print these values only for those rows where the Rangers made the playoffs."
   ]
  },
  {
   "cell_type": "code",
   "execution_count": null,
   "id": "f0d9084f",
   "metadata": {},
   "outputs": [],
   "source": [
    "# Loop over the DataFrame and print each row's Index, Year and Wins (W)\n",
    "for row in rangers_df.itertuples():\n",
    "  i = row.Index\n",
    "  year = row.Year\n",
    "  wins = row.W\n",
    "  \n",
    "  # Check if rangers made Playoffs (1 means yes; 0 means no)\n",
    "  if row.Playoffs == 1:\n",
    "    print(i, year, wins)"
   ]
  },
  {
   "cell_type": "markdown",
   "id": "3784a5fa",
   "metadata": {},
   "source": [
    "## Run differentials with .itertuples()\n",
    "\n",
    "The New York Yankees have made a trade with the San Francisco Giants for your analyst contract— you're a hot commodity! Your new boss has seen your work with the Giants and now wants you to do something similar with the Yankees data. He'd like you to calculate run differentials for the Yankees from the year 1962 to the year 2012 and find which season they had the best run differential.\n",
    "\n",
    "You've remembered the function you used when working with the Giants and quickly write it down:\n",
    "\n",
    "```\n",
    "def calc_run_diff(runs_scored, runs_allowed):\n",
    "\n",
    "    run_diff = runs_scored - runs_allowed\n",
    "\n",
    "    return run_diff\n",
    "```\n",
    "\n",
    "Let's use .itertuples() to loop over the yankees_df DataFrame (which has been loaded into your session) and calculate run differentials.\n",
    "\n",
    "\n",
    "---\n",
    "\n",
    "\n",
    "Instructions:\n",
    "\n",
    "\n",
    "- Use .itertuples() to loop over yankees_df and grab each row's runs scored and runs allowed values."
   ]
  },
  {
   "cell_type": "code",
   "execution_count": null,
   "id": "b156ce40",
   "metadata": {},
   "outputs": [],
   "source": [
    "run_diffs = []\n",
    "\n",
    "# Loop over the DataFrame and calculate each row's run differential\n",
    "for row in yankees_df.itertuples():\n",
    "    runs_scored = row.RS\n",
    "    runs_allowed = row.RA"
   ]
  },
  {
   "cell_type": "markdown",
   "id": "df2e09de",
   "metadata": {},
   "source": [
    "- Now, calculate each row's run differential using calc_run_diff(). Be sure to append each row's run differential to run_diffs."
   ]
  },
  {
   "cell_type": "code",
   "execution_count": null,
   "id": "002d41a9",
   "metadata": {},
   "outputs": [],
   "source": [
    "run_diffs = []\n",
    "\n",
    "# Loop over the DataFrame and calculate each row's run differential\n",
    "for row in yankees_df.itertuples():\n",
    "    \n",
    "    runs_scored = row.RS\n",
    "    runs_allowed = row.RA\n",
    "\n",
    "    run_diff = calc_run_diff(runs_scored, runs_allowed)\n",
    "    \n",
    "    run_diffs.append(run_diff)"
   ]
  },
  {
   "cell_type": "markdown",
   "id": "3c2b59ff",
   "metadata": {},
   "source": [
    "- Append a new column called 'RD' to the yankees_df DataFrame that contains the run differentials you calculated."
   ]
  },
  {
   "cell_type": "code",
   "execution_count": null,
   "id": "ada47c23",
   "metadata": {},
   "outputs": [],
   "source": [
    "run_diffs = []\n",
    "\n",
    "# Loop over the DataFrame and calculate each row's run differential\n",
    "for row in yankees_df.itertuples():\n",
    "    \n",
    "    runs_scored = row.RS\n",
    "    runs_allowed = row.RA\n",
    "\n",
    "    run_diff = calc_run_diff(runs_scored, runs_allowed)\n",
    "    \n",
    "    run_diffs.append(run_diff)\n",
    "\n",
    "# Append new column\n",
    "yankees_df['RD'] = run_diffs\n",
    "print(yankees_df)"
   ]
  },
  {
   "cell_type": "markdown",
   "id": "c292a3a8",
   "metadata": {},
   "source": [
    "## Analyzing baseball stats with .apply()\n",
    "\n",
    "The Tampa Bay Rays want you to analyze their data.\n",
    "\n",
    "They'd like the following metrics:\n",
    "\n",
    "- The sum of each column in the data\n",
    "- The total amount of runs scored in a year ('RS' + 'RA' for each year)\n",
    "- The 'Playoffs' column in text format rather than using 1's and 0's\n",
    "\n",
    "The below function can be used to convert the 'Playoffs' column to text:\n",
    "\n",
    "```\n",
    "def text_playoffs(num_playoffs): \n",
    "    if num_playoffs == 1:\n",
    "        return 'Yes'\n",
    "    else:\n",
    "        return 'No' \n",
    "```\n",
    "\n",
    "Use .apply() to get these metrics. A DataFrame (rays_df) has been loaded and printed to the console. This DataFrame is indexed on the 'Year' column.\n",
    "\n",
    "\n",
    "---\n",
    "\n",
    "\n",
    "Instructions:\n",
    "\n",
    "\n",
    "- Apply sum() to each column of rays_df to collect the sum of each column. Be sure to specify the correct axis."
   ]
  },
  {
   "cell_type": "code",
   "execution_count": null,
   "id": "af40c965",
   "metadata": {},
   "outputs": [],
   "source": [
    "# Gather sum of all columns\n",
    "stat_totals = rays_df.apply(lambda column: sum(column), axis=0)\n",
    "print(stat_totals)"
   ]
  },
  {
   "cell_type": "markdown",
   "id": "8a471187",
   "metadata": {},
   "source": [
    "- Apply sum() to each row of rays_df, only looking at the 'RS' and 'RA' columns, and specify the correct axis."
   ]
  },
  {
   "cell_type": "code",
   "execution_count": null,
   "id": "37e7805a",
   "metadata": {},
   "outputs": [],
   "source": [
    "# Gather total runs scored in all games per year\n",
    "total_runs_scored = rays_df[['RS', 'RA']].apply(lambda row: sum(row), axis=1)\n",
    "print(total_runs_scored)"
   ]
  },
  {
   "cell_type": "markdown",
   "id": "152e0b6e",
   "metadata": {},
   "source": [
    "- Use .apply() and a lambda function to apply text_playoffs() to each row's 'Playoffs' value of the rays_df DataFrame."
   ]
  },
  {
   "cell_type": "code",
   "execution_count": null,
   "id": "175300ad",
   "metadata": {},
   "outputs": [],
   "source": [
    "# Convert numeric playoffs to text by applying text_playoffs()\n",
    "textual_playoffs = rays_df.apply(lambda row: text_playoffs(row['Playoffs']), axis=1)\n",
    "print(textual_playoffs)"
   ]
  },
  {
   "cell_type": "markdown",
   "id": "7fd369da",
   "metadata": {},
   "source": [
    "## Settle a debate with .apply()\n",
    "\n",
    "Word has gotten to the Arizona Diamondbacks about your awesome analytics skills. They'd like for you to help settle a debate amongst the managers. One manager claims that the team has made the playoffs every year they have had a win percentage of 0.50 or greater. Another manager says this is not true.\n",
    "\n",
    "Let's use the below function and the .apply() method to see which manager is correct.\n",
    "\n",
    "```\n",
    "def calc_win_perc(wins, games_played):\n",
    "    win_perc = wins / games_played\n",
    "    return np.round(win_perc,2)\n",
    "```\n",
    "\n",
    "A DataFrame named dbacks_df has been loaded into your session.\n",
    "\n",
    "\n",
    "---\n",
    "\n",
    "\n",
    "Instructions:\n",
    "\n",
    "\n",
    "- Print the first five rows of the dbacks_df DataFrame to see what the data looks like."
   ]
  },
  {
   "cell_type": "code",
   "execution_count": null,
   "id": "d0662890",
   "metadata": {},
   "outputs": [],
   "source": [
    "# Display the first five rows of the DataFrame\n",
    "print(dbacks_df.head())"
   ]
  },
  {
   "cell_type": "markdown",
   "id": "3dd08cf3",
   "metadata": {},
   "source": [
    "- Create a pandas Series called win_percs by applying the calc_win_perc() function to each row of the DataFrame with a lambda function."
   ]
  },
  {
   "cell_type": "code",
   "execution_count": null,
   "id": "880a6a7a",
   "metadata": {},
   "outputs": [],
   "source": [
    "# Display the first five rows of the DataFrame\n",
    "print(dbacks_df.head())\n",
    "\n",
    "# Create a win percentage Series \n",
    "win_percs = dbacks_df.apply(lambda row: calc_win_perc(row['W'], row['G']), axis=1)\n",
    "print(win_percs, '\\n')"
   ]
  },
  {
   "cell_type": "markdown",
   "id": "7549d3c6",
   "metadata": {},
   "source": [
    "- Create a new column in dbacks_df called WP that contains the win percentages you calculated in the above step."
   ]
  },
  {
   "cell_type": "code",
   "execution_count": null,
   "id": "2b67158b",
   "metadata": {},
   "outputs": [],
   "source": [
    "# Display the first five rows of the DataFrame\n",
    "print(dbacks_df.head())\n",
    "\n",
    "# Create a win percentage Series \n",
    "win_percs = dbacks_df.apply(lambda row: calc_win_perc(row['W'], row['G']), axis=1)\n",
    "print(win_percs, '\\n')\n",
    "\n",
    "# Append a new column to dbacks_df\n",
    "dbacks_df['WP'] = win_percs\n",
    "print(dbacks_df, '\\n')\n",
    "\n",
    "# Display dbacks_df where WP is greater than 0.50\n",
    "print(dbacks_df[dbacks_df['WP'] >= 0.50])"
   ]
  },
  {
   "cell_type": "markdown",
   "id": "8ec1a661",
   "metadata": {},
   "source": [
    "## Replacing .iloc with underlying arrays\n",
    "\n",
    "Now that you have a better grasp on a DataFrame's internals let's update one of your previous analyses to leverage a DataFrame's underlying arrays. You'll revisit the win percentage calculations you performed row by row with the .iloc method:\n",
    "\n",
    "```\n",
    "def calc_win_perc(wins, games_played):\n",
    "    win_perc = wins / games_played\n",
    "    return np.round(win_perc,2)\n",
    "\n",
    "win_percs_list = []\n",
    "\n",
    "for i in range(len(baseball_df)):\n",
    "    row = baseball_df.iloc[i]\n",
    "\n",
    "    wins = row['W']\n",
    "    games_played = row['G']\n",
    "\n",
    "    win_perc = calc_win_perc(wins, games_played)\n",
    "\n",
    "    win_percs_list.append(win_perc)\n",
    "\n",
    "baseball_df['WP'] = win_percs_list\n",
    "```\n",
    "\n",
    "Let's update this analysis to use arrays instead of the .iloc method. A DataFrame (baseball_df) has been loaded into your session.\n",
    "\n",
    "\n",
    "---\n",
    "\n",
    "\n",
    "Instructions:\n",
    "\n",
    "\n",
    "- Use the right method to collect the underlying 'W' and 'G' arrays of baseball_df and pass them directly into the calc_win_perc() function. Store the result as a variable called win_percs_np."
   ]
  },
  {
   "cell_type": "code",
   "execution_count": null,
   "id": "d443e23d",
   "metadata": {},
   "outputs": [],
   "source": [
    "# Use the W array and G array to calculate win percentages\n",
    "win_percs_np = calc_win_perc(baseball_df['W'].values, baseball_df['G'].values)"
   ]
  },
  {
   "cell_type": "markdown",
   "id": "6a95f229",
   "metadata": {},
   "source": [
    "- Create a new column in baseball_df called 'WP' that contains the win percentages you just calculated."
   ]
  },
  {
   "cell_type": "code",
   "execution_count": null,
   "id": "13f554ce",
   "metadata": {},
   "outputs": [],
   "source": [
    "# Use the W array and G array to calculate win percentages\n",
    "win_percs_np = calc_win_perc(baseball_df['W'].values, baseball_df['G'].values)\n",
    "\n",
    "# Append a new column to baseball_df that stores all win percentages\n",
    "baseball_df['WP'] = win_percs_np\n",
    "\n",
    "print(baseball_df.head())"
   ]
  },
  {
   "cell_type": "markdown",
   "id": "8e86396d",
   "metadata": {},
   "source": [
    "## Bringing it all together: Predict win percentage\n",
    "\n",
    "A pandas DataFrame (baseball_df) has been loaded into your session. For convenience, a dictionary describing each column within baseball_df has been printed into your console. You can reference these descriptions throughout the exercise.\n",
    "\n",
    "You'd like to attempt to predict a team's win percentage for a given season by using the team's total runs scored in a season ('RS') and total runs allowed in a season ('RA') with the following function:\n",
    "\n",
    "```\n",
    "def predict_win_perc(RS, RA):\n",
    "    prediction = RS ** 2 / (RS ** 2 + RA ** 2)\n",
    "    return np.round(prediction, 2)\n",
    "```\n",
    "\n",
    "Let's compare the approaches you've learned to calculate a predicted win percentage for each season (or row) in your DataFrame.\n",
    "\n",
    "\n",
    "---\n",
    "\n",
    "\n",
    "Instructions:\n",
    "\n",
    "- Use a for loop and .itertuples() to predict the win percentage for each row of baseball_df with the predict_win_perc() function. Save each row's predicted win percentage as win_perc_pred and append each to the win_perc_preds_loop list."
   ]
  },
  {
   "cell_type": "code",
   "execution_count": null,
   "id": "4a9aadfd",
   "metadata": {},
   "outputs": [],
   "source": [
    "win_perc_preds_loop = []\n",
    "\n",
    "# Use a loop and .itertuples() to collect each row's predicted win percentage\n",
    "for row in baseball_df.itertuples():\n",
    "    runs_scored = row.RS\n",
    "    runs_allowed = row.RA\n",
    "    win_perc_pred = predict_win_perc(runs_scored, runs_allowed)\n",
    "    win_perc_preds_loop.append(win_perc_pred)"
   ]
  },
  {
   "cell_type": "markdown",
   "id": "38b1c9cc",
   "metadata": {},
   "source": [
    "- Apply predict_win_perc() to each row of the baseball_df DataFrame using a lambda function. Save the predicted win percentage as win_perc_preds_apply."
   ]
  },
  {
   "cell_type": "code",
   "execution_count": null,
   "id": "3c176e52",
   "metadata": {},
   "outputs": [],
   "source": [
    "win_perc_preds_loop = []\n",
    "\n",
    "# Use a loop and .itertuples() to collect each row's predicted win percentage\n",
    "for row in baseball_df.itertuples():\n",
    "    runs_scored = row.RS\n",
    "    runs_allowed = row.RA\n",
    "    win_perc_pred = predict_win_perc(runs_scored, runs_allowed)\n",
    "    win_perc_preds_loop.append(win_perc_pred)\n",
    "\n",
    "# Apply predict_win_perc to each row of the DataFrame\n",
    "win_perc_preds_apply = baseball_df.apply(lambda row: predict_win_perc(row['RS'], row['RA']), axis=1)"
   ]
  },
  {
   "cell_type": "markdown",
   "id": "642ffffa",
   "metadata": {},
   "source": [
    "- Calculate the predicted win percentages by passing the underlying 'RS' and 'RA' arrays from baseball_df into predict_win_perc(). Save these predictions as win_perc_preds_np."
   ]
  },
  {
   "cell_type": "code",
   "execution_count": null,
   "id": "1b7c8d07",
   "metadata": {},
   "outputs": [],
   "source": [
    "win_perc_preds_loop = []\n",
    "\n",
    "# Use a loop and .itertuples() to collect each row's predicted win percentage\n",
    "for row in baseball_df.itertuples():\n",
    "    runs_scored = row.RS\n",
    "    runs_allowed = row.RA\n",
    "    win_perc_pred = predict_win_perc(runs_scored, runs_allowed)\n",
    "    win_perc_preds_loop.append(win_perc_pred)\n",
    "\n",
    "# Apply predict_win_perc to each row of the DataFrame\n",
    "win_perc_preds_apply = baseball_df.apply(lambda row: predict_win_perc(row['RS'], row['RA']), axis=1)\n",
    "\n",
    "# Calculate the win percentage predictions using NumPy arrays\n",
    "win_perc_preds_np = predict_win_perc(baseball_df['RS'].values, baseball_df['RA'].values)\n",
    "baseball_df['WP_preds'] = win_perc_preds_np\n",
    "print(baseball_df.head())"
   ]
  }
 ],
 "metadata": {
  "kernelspec": {
   "display_name": "Python 3 (ipykernel)",
   "language": "python",
   "name": "python3"
  },
  "language_info": {
   "codemirror_mode": {
    "name": "ipython",
    "version": 3
   },
   "file_extension": ".py",
   "mimetype": "text/x-python",
   "name": "python",
   "nbconvert_exporter": "python",
   "pygments_lexer": "ipython3",
   "version": "3.9.2"
  }
 },
 "nbformat": 4,
 "nbformat_minor": 5
}
