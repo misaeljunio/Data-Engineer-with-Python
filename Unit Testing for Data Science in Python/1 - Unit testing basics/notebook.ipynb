{
 "cells": [
  {
   "cell_type": "markdown",
   "id": "d5406156",
   "metadata": {},
   "source": [
    "## Your first unit test using pytest\n",
    "\n",
    "The data file containing housing area and prices uses commas as thousands separators, e.g. \"2,081\" or \"314,942\", as you can see in the IPython Shell.\n",
    "\n",
    "The convert_to_int() function takes a comma separated integer string as argument, and returns the integer. Therefore, the expected return value of convert_to_int(\"2,081\") is the integer 2081.\n",
    "\n",
    "This function is defined in the module preprocessing_helpers.py. But it is not known if the function is working properly.\n",
    "\n",
    "\n",
    "---\n",
    "\n",
    "\n",
    "Instructions:\n",
    "\n",
    "\n",
    "- Import the pytest package."
   ]
  },
  {
   "cell_type": "code",
   "execution_count": null,
   "id": "234ce4d2",
   "metadata": {},
   "outputs": [],
   "source": [
    "# Import the pytest package\n",
    "import pytest"
   ]
  },
  {
   "cell_type": "markdown",
   "id": "19d7a543",
   "metadata": {},
   "source": [
    "- Import the function convert_to_int()."
   ]
  },
  {
   "cell_type": "code",
   "execution_count": null,
   "id": "f3d64bed",
   "metadata": {},
   "outputs": [],
   "source": [
    "# Import the pytest package\n",
    "import pytest\n",
    "\n",
    "# Import convert_to_int() from the module preprocessing_helpers.py\n",
    "from preprocessing_helpers import convert_to_int"
   ]
  },
  {
   "cell_type": "markdown",
   "id": "050725fc",
   "metadata": {},
   "source": [
    "- Complete the name of the unit test by adding the prefix which pytest uses to distinguish unit tests from ordinary functions."
   ]
  },
  {
   "cell_type": "code",
   "execution_count": null,
   "id": "b8453180",
   "metadata": {},
   "outputs": [],
   "source": [
    "# Import the pytest package\n",
    "import pytest\n",
    "\n",
    "# Import the function convert_to_int()\n",
    "from preprocessing_helpers import convert_to_int\n",
    "\n",
    "# Complete the unit test name by adding a prefix\n",
    "def test_on_string_with_one_comma():\n",
    "  pass"
   ]
  },
  {
   "cell_type": "markdown",
   "id": "7e5e0509",
   "metadata": {},
   "source": [
    "- Complete the assert statement to check if convert_to_int() returns the expected value for the argument \"2,081\"."
   ]
  },
  {
   "cell_type": "code",
   "execution_count": null,
   "id": "49301759",
   "metadata": {},
   "outputs": [],
   "source": [
    "# Import the pytest package\n",
    "import pytest\n",
    "\n",
    "# Import the function convert_to_int()\n",
    "from preprocessing_helpers import convert_to_int\n",
    "\n",
    "# Complete the unit test name by adding a prefix\n",
    "def test_on_string_with_one_comma():\n",
    "  # Complete the assert statement\n",
    "  assert convert_to_int(\"2,081\") == 2081"
   ]
  }
 ],
 "metadata": {
  "kernelspec": {
   "display_name": "Python 3 (ipykernel)",
   "language": "python",
   "name": "python3"
  },
  "language_info": {
   "codemirror_mode": {
    "name": "ipython",
    "version": 3
   },
   "file_extension": ".py",
   "mimetype": "text/x-python",
   "name": "python",
   "nbconvert_exporter": "python",
   "pygments_lexer": "ipython3",
   "version": "3.9.2"
  }
 },
 "nbformat": 4,
 "nbformat_minor": 5
}
