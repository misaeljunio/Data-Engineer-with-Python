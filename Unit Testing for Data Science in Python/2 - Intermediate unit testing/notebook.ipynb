{
 "cells": [
  {
   "cell_type": "markdown",
   "id": "e218cdc6",
   "metadata": {},
   "source": [
    "## Write an informative test failure message\n",
    "\n",
    "The test result reports become a lot easier to read when you make good use of the optional message argument of the assert statement.\n",
    "\n",
    "In a previous exercise, you wrote a test for the convert_to_int() function. The function takes an integer valued string with commas as thousand separators e.g. \"2,081\" as argument and should return the integer 2081.\n",
    "\n",
    "In this exercise, you will rewrite the test called test_on_string_with_one_comma() so that it prints an informative message if the test fails.\n",
    "\n",
    "\n",
    "---\n",
    "\n",
    "\n",
    "Instructions:\n",
    "\n",
    "\n",
    "- Format the message string so that it shows the actual return value."
   ]
  },
  {
   "cell_type": "code",
   "execution_count": null,
   "id": "56538096",
   "metadata": {},
   "outputs": [],
   "source": [
    "import pytest\n",
    "from preprocessing_helpers import convert_to_int\n",
    "\n",
    "def test_on_string_with_one_comma():\n",
    "    test_argument = \"2,081\"\n",
    "    expected = 2081\n",
    "    actual = convert_to_int(test_argument)\n",
    "    # Format the string with the actual return value\n",
    "    message = \"convert_to_int('2,081') should return the int 2081, but it actually returned {0}\".format(actual)"
   ]
  },
  {
   "cell_type": "markdown",
   "id": "66adb66e",
   "metadata": {},
   "source": [
    "- Write the assert statement that checks if actual is equal to expected and prints the message message if they are not equal."
   ]
  },
  {
   "cell_type": "code",
   "execution_count": null,
   "id": "e2427be8",
   "metadata": {},
   "outputs": [],
   "source": [
    "import pytest\n",
    "from preprocessing_helpers import convert_to_int\n",
    "\n",
    "def test_on_string_with_one_comma():\n",
    "    test_argument = \"2,081\"\n",
    "    expected = 2081\n",
    "    actual = convert_to_int(test_argument)\n",
    "    # Format the string with the actual return value\n",
    "    message = \"convert_to_int('2,081') should return the int 2081, but it actually returned {0}\".format(actual)\n",
    "    # Write the assert statement which prints message on failure\n",
    "    assert actual == expected, message"
   ]
  },
  {
   "cell_type": "markdown",
   "id": "81be3800",
   "metadata": {},
   "source": [
    "## Testing float return values\n",
    "\n",
    "The get_data_as_numpy_array() function (which was called mystery_function() in one of the previous exercises) takes two arguments: the path to a clean data file and the number of data columns in the file . An example file has been printed out in the IPython console. It contains three rows.\n",
    "\n",
    "The function converts the data into a 3x2 NumPy array with dtype=float64. The expected return value has been stored in a variable called expected. Print it out to see it.\n",
    "\n",
    "The housing areas are in the first column and the housing prices are in the second column. This array will be the features that will be fed to the linear regression model for learning.\n",
    "\n",
    "The return value contains floats. Therefore you have to be especially careful when writing unit tests for this function.\n",
    "\n",
    "\n",
    "---\n",
    "\n",
    "\n",
    "Instructions:\n",
    "\n",
    "\n",
    "- Complete the assert statement to check if get_data_as_numpy_array() returns expected, when called on example_clean_data_file.txt with num_columns set to 2."
   ]
  },
  {
   "cell_type": "code",
   "execution_count": null,
   "id": "0e99d8b4",
   "metadata": {},
   "outputs": [],
   "source": [
    "import numpy as np\n",
    "import pytest\n",
    "from as_numpy import get_data_as_numpy_array\n",
    "\n",
    "def test_on_clean_file():\n",
    "  expected = np.array([[2081.0, 314942.0],\n",
    "                       [1059.0, 186606.0],\n",
    "  \t\t\t\t\t   [1148.0, 206186.0]\n",
    "                       ]\n",
    "                      )\n",
    "  actual = get_data_as_numpy_array(\"example_clean_data.txt\", num_columns=2)\n",
    "  message = \"Expected return value: {0}, Actual return value: {1}\".format(expected, actual)\n",
    "  # Complete the assert statement\n",
    "  assert actual == pytest.approx(expected), message"
   ]
  },
  {
   "cell_type": "markdown",
   "id": "540fd69c",
   "metadata": {},
   "source": [
    "## Testing with multiple assert statements\n",
    "\n",
    "You're now going to test the function split_into_training_and_testing_sets() from the models module.\n",
    "\n",
    "It takes a n x 2 NumPy array containing housing area and prices as argument. To see an example argument, print the variable example_argument in the IPython console.\n",
    "\n",
    "The function returns a 2-tuple of NumPy arrays (training_set, testing_set). The training set contains int(0.75 * n) (approx. 75%) randomly selected rows of the argument array. The testing set contains the remaining rows.\n",
    "\n",
    "Print the variable expected_return_value in the IPython console. example_argument had 6 rows. Therefore the training array has int(0.75 * 6) = 4 of its rows and the testing array has the remaining 2 rows.\n",
    "\n",
    "numpy as np, pytest and split_into_training_and_testing_sets have been imported for you.\n",
    "\n",
    "\n",
    "---\n",
    "\n",
    "\n",
    "Instructions:\n",
    "\n",
    "\n",
    "- Calculate the expected number of rows of the training array using the formula int(0.75*n), where n is the number of rows in example_argument, and assign the variable expected_training_array_num_rows to this number."
   ]
  },
  {
   "cell_type": "code",
   "execution_count": null,
   "id": "efd15f0f",
   "metadata": {},
   "outputs": [],
   "source": [
    "def test_on_six_rows():\n",
    "    example_argument = np.array([[2081.0, 314942.0], [1059.0, 186606.0],\n",
    "                                 [1148.0, 206186.0], [1506.0, 248419.0],\n",
    "                                 [1210.0, 214114.0], [1697.0, 277794.0]]\n",
    "                                )\n",
    "    num_rows, num_cols = example_argument.shape\n",
    "    # Fill in with training array's expected number of rows\n",
    "    expected_training_array_num_rows = int(0.75 * num_rows)"
   ]
  },
  {
   "cell_type": "markdown",
   "id": "aba3f02a",
   "metadata": {},
   "source": [
    "- Calculate the expected number of rows of the testing array using the formula n - int(0.75*n), where n is the number of rows in example_argument, and assign the variable expected_testing_array_num_rows to this number."
   ]
  },
  {
   "cell_type": "code",
   "execution_count": null,
   "id": "c5aa0d46",
   "metadata": {},
   "outputs": [],
   "source": [
    "def test_on_six_rows():\n",
    "    example_argument = np.array([[2081.0, 314942.0], [1059.0, 186606.0],\n",
    "                                [1148.0, 206186.0], [1506.0, 248419.0],\n",
    "                                [1210.0, 214114.0], [1697.0, 277794.0]]\n",
    "                               )\n",
    "    num_rows, num_cols = example_argument.shape\n",
    "    # Fill in with training array's expected number of rows\n",
    "    expected_training_array_num_rows = 4\n",
    "    # Fill in with testing array's expected number of rows\n",
    "    expected_testing_array_num_rows = num_rows - int(0.75 * num_rows)"
   ]
  },
  {
   "cell_type": "markdown",
   "id": "3cc49e45",
   "metadata": {},
   "source": [
    "- Write an assert statement that checks if training array has expected_training_array_num_rows rows."
   ]
  },
  {
   "cell_type": "code",
   "execution_count": null,
   "id": "8d39b495",
   "metadata": {},
   "outputs": [],
   "source": [
    "def test_on_six_rows():\n",
    "    example_argument = np.array([[2081.0, 314942.0], [1059.0, 186606.0],\n",
    "                                 [1148.0, 206186.0], [1506.0, 248419.0],\n",
    "                                 [1210.0, 214114.0], [1697.0, 277794.0]]\n",
    "                                )\n",
    "    # Fill in with training array's expected number of rows\n",
    "    expected_training_array_num_rows = 4\n",
    "    # Fill in with testing array's expected number of rows\n",
    "    expected_testing_array_num_rows = 2\n",
    "    actual = split_into_training_and_testing_sets(example_argument)\n",
    "    # Write the assert statement checking training array's number of rows\n",
    "    assert actual[0].shape[0] == expected_training_array_num_rows, \"The actual number of rows in the training array is not {}\".format(expected_training_array_num_rows)"
   ]
  },
  {
   "cell_type": "markdown",
   "id": "232ae3af",
   "metadata": {},
   "source": [
    "- Write an assert statement that checks if testing array has expected_testing_array_num_rows rows."
   ]
  },
  {
   "cell_type": "code",
   "execution_count": null,
   "id": "daccca72",
   "metadata": {},
   "outputs": [],
   "source": [
    "def test_on_six_rows():\n",
    "    example_argument = np.array([[2081.0, 314942.0], [1059.0, 186606.0],\n",
    "                                 [1148.0, 206186.0], [1506.0, 248419.0],\n",
    "                                 [1210.0, 214114.0], [1697.0, 277794.0]]\n",
    "                                )\n",
    "    # Fill in with training array's expected number of rows\n",
    "    expected_training_array_num_rows = 4\n",
    "    # Fill in with testing array's expected number of rows\n",
    "    expected_testing_array_num_rows = 2\n",
    "    actual = split_into_training_and_testing_sets(example_argument)\n",
    "    # Write the assert statement checking training array's number of rows\n",
    "    assert actual[0].shape[0] == expected_training_array_num_rows, \"The actual number of rows in the training array is not {}\".format(expected_training_array_num_rows)\n",
    "    # Write the assert statement checking testing array's number of rows\n",
    "    assert actual[1].shape[1] == expected_testing_array_num_rows, \"The actual number of rows in the testing array is not {}\".format(expected_testing_array_num_rows)"
   ]
  },
  {
   "cell_type": "markdown",
   "id": "f5d49a4e",
   "metadata": {},
   "source": [
    "## Unit test a ValueError\n",
    "\n",
    "Sometimes, you want a function to raise an exception when called on bad arguments. This prevents the function from returning nonsense results or hard-to-interpret exceptions. This is an important behavior which should be unit tested.\n",
    "\n",
    "Remember the function split_into_training_and_testing_sets()? It takes a NumPy array containing housing area and prices as argument. The function randomly splits the array row wise into training and testing arrays in the ratio 3:1, and returns the resulting arrays in a tuple.\n",
    "\n",
    "If the argument array has only 1 row, the testing array will be empty. To avoid this situation, you want the function to not return anything, but raise a `ValueError` with the message `\"Argument data_array must have at least 2 rows, it actually has just 1\"`.\n",
    "\n",
    "\n",
    "---\n",
    "\n",
    "\n",
    "Instructions:\n",
    "\n",
    "\n",
    "- Fill in with the correct context manager that checks if split_into_training_and_testing_sets() raises a ValueError when called on test_argument, which is a NumPy array with a single row."
   ]
  },
  {
   "cell_type": "code",
   "execution_count": null,
   "id": "deb444b8",
   "metadata": {},
   "outputs": [],
   "source": [
    "import numpy as np\n",
    "import pytest\n",
    "from train import split_into_training_and_testing_sets\n",
    "\n",
    "def test_on_one_row():\n",
    "    test_argument = np.array([[1382.0, 390167.0]])\n",
    "    # Fill in with a context manager for checking ValueError\n",
    "    with pytest.raises(ValueError):\n",
    "      split_into_training_and_testing_sets(test_argument)"
   ]
  },
  {
   "cell_type": "markdown",
   "id": "ea5e096e",
   "metadata": {},
   "source": [
    "- Complete the with statement so that information about any raised ValueError will be stored in the variable exc_info."
   ]
  },
  {
   "cell_type": "code",
   "execution_count": null,
   "id": "68c70168",
   "metadata": {},
   "outputs": [],
   "source": [
    "import numpy as np\n",
    "import pytest\n",
    "from train import split_into_training_and_testing_sets\n",
    "\n",
    "def test_on_one_row():\n",
    "    test_argument = np.array([[1382.0, 390167.0]])\n",
    "    # Store information about raised ValueError in exc_info\n",
    "    with pytest.raises(ValueError) as exc_info:\n",
    "      split_into_training_and_testing_sets(test_argument)"
   ]
  },
  {
   "cell_type": "markdown",
   "id": "025a7fd4",
   "metadata": {},
   "source": [
    "- Write an assert statement to check if the raised ValueError contains the correct message stored in the variable expected_error_msg."
   ]
  },
  {
   "cell_type": "code",
   "execution_count": null,
   "id": "f55e2b7e",
   "metadata": {},
   "outputs": [],
   "source": [
    "import numpy as np\n",
    "import pytest\n",
    "from train import split_into_training_and_testing_sets\n",
    "\n",
    "def test_on_one_row():\n",
    "    test_argument = np.array([[1382.0, 390167.0]])\n",
    "    # Store information about raised ValueError in exc_info\n",
    "    with pytest.raises(ValueError) as exc_info:\n",
    "      split_into_training_and_testing_sets(test_argument)\n",
    "    expected_error_msg = \"Argument data_array must have at least 2 rows, it actually has just 1\"\n",
    "    # Check if the raised ValueError contains the correct message\n",
    "    assert exc_info.match(expected_error_msg)"
   ]
  },
  {
   "cell_type": "markdown",
   "id": "7c7606f6",
   "metadata": {},
   "source": [
    "## Testing well: Values triggering special logic\n",
    "\n",
    "Look at the plot. The boundary values of row_to_list() are now marked in orange. The normal argument is marked in green and the values triggering special behavior are marked in blue.\n",
    "\n",
    "In the last exercise, you wrote tests for boundary values. In this exercise, you are going to write tests for values triggering special behavior, in particular, (0, 1) and (2, 1). These are values triggering special logic since the function returns None instead of a list.\n",
    "\n",
    "\n",
    "---\n",
    "\n",
    "\n",
    "Instructions:\n",
    "\n",
    "\n",
    "- Assign the variable actual to the actual return value for \"\\n\".\n",
    "\n",
    "\n",
    "- Complete the assert statement for test_on_no_tab_with_missing_value(), making sure to format the failure message appropriately.\n",
    "\n",
    "\n",
    "- Assign the variable actual to the actual return value for \"123\\t\\t89\\n\".\n",
    "\n",
    "\n",
    "- Complete the assert statement for test_on_two_tabs_with_missing_value(), making sure to format the failure message appropriately."
   ]
  },
  {
   "cell_type": "code",
   "execution_count": null,
   "id": "373dd94c",
   "metadata": {},
   "outputs": [],
   "source": [
    "import pytest\n",
    "from preprocessing_helpers import row_to_list\n",
    "\n",
    "def test_on_no_tab_with_missing_value():    # (0, 1) case\n",
    "    # Assign to the actual return value for the argument \"\\n\"\n",
    "    actual = row_to_list(\"\\n\")\n",
    "    # Write the assert statement with a failure message\n",
    "    assert actual is None, \"Expected: None, Actual: {0}\".format(actual)\n",
    "    \n",
    "def test_on_two_tabs_with_missing_value():    # (2, 1) case\n",
    "    # Assign to the actual return value for the argument \"123\\t\\t89\\n\"\n",
    "    actual = row_to_list(\"123\\t\\t89\\n\")\n",
    "    # Write the assert statement with a failure message\n",
    "    assert actual is None, \"Expected: None, Actual: {0}\".format(actual)"
   ]
  },
  {
   "cell_type": "markdown",
   "id": "41815c92",
   "metadata": {},
   "source": [
    "## TDD: Tests for normal arguments\n",
    "\n",
    "In this and the following exercises, you will implement the function convert_to_int() using Test Driven Development (TDD). In TDD, you write the tests first and implement the function later.\n",
    "\n",
    "Normal arguments for convert_to_int() are integer strings with comma as thousand separators. Since the best practice is to test a function for two to three normal arguments, here are three examples with no comma, one comma and two commas respectively.\n",
    "\n",
    "```\n",
    "Argument value \tExpected return value\n",
    "\"756\" \t         756\n",
    "\"2,081\" \t       2081\n",
    "\"1,034,891\"        1034891\n",
    "```\n",
    "\n",
    "Since the convert_to_int() function does not exist yet, you won't be able to import it. But you will use it in the tests anyway. That's how TDD works.\n",
    "\n",
    "pytest has already been imported for you.\n",
    "\n",
    "\n",
    "---\n",
    "\n",
    "\n",
    "Instructions:\n",
    "\n",
    "\n",
    "- Complete the assert statement for test_with_no_comma() by inserting the correct boolean expression.\n",
    "\n",
    "\n",
    "- Complete the assert statement for test_with_one_comma() by inserting the correct boolean expression.\n",
    "\n",
    "\n",
    "- Complete the assert statement for test_with_two_commas() by inserting the correct boolean expression."
   ]
  },
  {
   "cell_type": "code",
   "execution_count": null,
   "id": "35433ec6",
   "metadata": {},
   "outputs": [],
   "source": [
    "def test_with_no_comma():\n",
    "    actual = convert_to_int(\"756\")\n",
    "    # Complete the assert statement\n",
    "    assert actual == 756, \"Expected: 756, Actual: {0}\".format(actual)\n",
    "    \n",
    "def test_with_one_comma():\n",
    "    actual = convert_to_int(\"2,081\")\n",
    "    # Complete the assert statement\n",
    "    assert actual == 2081, \"Expected: 2081, Actual: {0}\".format(actual)\n",
    "    \n",
    "def test_with_two_commas():\n",
    "    actual = convert_to_int(\"1,034,891\")\n",
    "    # Complete the assert statement\n",
    "    assert actual == 1034891, \"Expected: 1034891, Actual: {0}\".format(actual)"
   ]
  },
  {
   "cell_type": "markdown",
   "id": "74688316",
   "metadata": {},
   "source": [
    "## TDD: Requirement collection\n",
    "\n",
    "What should convert_to_int() do if the arguments are not normal? In particular, there are three special argument types:\n",
    "\n",
    "- Arguments that are missing a comma e.g. \"178100,301\".\n",
    "- Arguments that have the comma in the wrong place e.g. \"12,72,891\".\n",
    "- Float valued strings e.g. \"23,816.92\".\n",
    "\n",
    "Also, should convert_to_int() raise an exception for specific argument values?\n",
    "\n",
    "When your boss asked you to implement the function, she didn't say anything about these cases! But since you want to write tests for special and bad arguments as a part of TDD, you go and ask your boss.\n",
    "\n",
    "She says that convert_to_int() should return None for every special argument and there are no bad arguments for this function.\n",
    "\n",
    "pytest has been imported for you.\n",
    "\n",
    "\n",
    "---\n",
    "\n",
    "\n",
    "Instructions:\n",
    "\n",
    "\n",
    "- Give a name to the test by using the standard name prefix that pytest expects followed by on_string_with_missing_comma.\n",
    "\n",
    "\n",
    "- Assign actual to the actual return value for the argument \"12,72,891\".\n",
    "\n",
    "\n",
    "- Complete the assert statement."
   ]
  },
  {
   "cell_type": "code",
   "execution_count": null,
   "id": "a73f77a6",
   "metadata": {},
   "outputs": [],
   "source": [
    "# Give a name to the test for an argument with missing comma\n",
    "def test_on_string_with_missing_comma():\n",
    "    actual = convert_to_int(\"178100,301\")\n",
    "    assert actual is None, \"Expected: None, Actual: {0}\".format(actual)\n",
    "    \n",
    "def test_on_string_with_incorrectly_placed_comma():\n",
    "    # Assign to the actual return value for the argument \"12,72,891\"\n",
    "    actual = convert_to_int(\"12,72,891\")\n",
    "    assert actual is None, \"Expected: None, Actual: {0}\".format(actual)\n",
    "    \n",
    "def test_on_float_valued_string():\n",
    "    actual = convert_to_int(\"23,816.92\")\n",
    "    # Complete the assert statement\n",
    "    assert actual is None, \"Expected: None, Actual: {0}\".format(actual)"
   ]
  },
  {
   "cell_type": "markdown",
   "id": "4533276e",
   "metadata": {},
   "source": [
    "## TDD: Implement the function\n",
    "\n",
    "convert_to_int() returns None for the following:\n",
    "\n",
    "- Arguments with missing thousands comma e.g. \"178100,301\". If you split the string at the comma using \"178100,301\".split(\",\"), then the resulting list [\"178100\", \"301\"] will have at least one entry with length greater than 3 e.g. \"178100\".\n",
    "\n",
    "\n",
    "- Arguments with incorrectly placed comma e.g. \"12,72,891\". If you split this at the comma, then the resulting list is [\"12\", \"72\", \"891\"]. Note that the first entry is allowed to have any length between 1 and 3. But if any other entry has a length other than 3, like \"72\", then there's an incorrectly placed comma.\n",
    "\n",
    "\n",
    "- Float valued strings e.g. \"23,816.92\". If you remove the commas and call int() on this string i.e. int(\"23816.92\"), you will get a ValueError.\n",
    "\n",
    "\n",
    "---\n",
    "\n",
    "\n",
    "Instructions:\n",
    "\n",
    "\n",
    "- Complete the if statement that checks if the i-th element of comma_separated_parts has length greater than 3."
   ]
  },
  {
   "cell_type": "code",
   "execution_count": null,
   "id": "7cc84951",
   "metadata": {},
   "outputs": [],
   "source": [
    "def convert_to_int(integer_string_with_commas):\n",
    "    comma_separated_parts = integer_string_with_commas.split(\",\")\n",
    "    for i in range(len(comma_separated_parts)):\n",
    "        # Write an if statement for checking missing commas\n",
    "        if len(comma_separated_parts[i]) > 3:\n",
    "            return None"
   ]
  },
  {
   "cell_type": "markdown",
   "id": "2f6d87b1",
   "metadata": {},
   "source": [
    "- Complete the if statement that checks if any entry other than the 0-th entry of comma_separated_parts has a length not equal to 3."
   ]
  },
  {
   "cell_type": "code",
   "execution_count": null,
   "id": "316b8f10",
   "metadata": {},
   "outputs": [],
   "source": [
    "def convert_to_int(integer_string_with_commas):\n",
    "    comma_separated_parts = integer_string_with_commas.split(\",\")\n",
    "    for i in range(len(comma_separated_parts)):\n",
    "        # Write an if statement for checking missing commas\n",
    "        if len(comma_separated_parts[i]) > 3:\n",
    "            return None\n",
    "        # Write the if statement for incorrectly placed commas\n",
    "        if i != 0 and len(comma_separated_parts[i]) != 3:\n",
    "            return None"
   ]
  },
  {
   "cell_type": "markdown",
   "id": "82c7cc8b",
   "metadata": {},
   "source": [
    "- Fill in the except clause with a ValueError, which is raised when trying to convert float valued strings e.g. 23816.92 to an integer."
   ]
  },
  {
   "cell_type": "code",
   "execution_count": null,
   "id": "c20e15d2",
   "metadata": {},
   "outputs": [],
   "source": [
    "def convert_to_int(integer_string_with_commas):\n",
    "    comma_separated_parts = integer_string_with_commas.split(\",\")\n",
    "    for i in range(len(comma_separated_parts)):\n",
    "        # Write an if statement for checking missing commas\n",
    "        if len(comma_separated_parts[i]) > 3:\n",
    "            return None\n",
    "        # Write the if statement for incorrectly placed commas\n",
    "        if i != 0 and len(comma_separated_parts[i]) != 3:\n",
    "            return None\n",
    "    integer_string_without_commas = \"\".join(comma_separated_parts)\n",
    "    try:\n",
    "        return int(integer_string_without_commas)\n",
    "    # Fill in with a ValueError\n",
    "    except ValueError:\n",
    "        return None"
   ]
  }
 ],
 "metadata": {
  "kernelspec": {
   "display_name": "Python 3 (ipykernel)",
   "language": "python",
   "name": "python3"
  },
  "language_info": {
   "codemirror_mode": {
    "name": "ipython",
    "version": 3
   },
   "file_extension": ".py",
   "mimetype": "text/x-python",
   "name": "python",
   "nbconvert_exporter": "python",
   "pygments_lexer": "ipython3",
   "version": "3.9.2"
  }
 },
 "nbformat": 4,
 "nbformat_minor": 5
}
