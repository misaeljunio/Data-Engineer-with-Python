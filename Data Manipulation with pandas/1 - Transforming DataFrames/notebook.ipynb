{
 "cells": [
  {
   "cell_type": "markdown",
   "id": "096742fc",
   "metadata": {},
   "source": [
    "## Inspecting a DataFrame\n",
    "\n",
    "When you get a new DataFrame to work with, the first thing you need to do is explore it and see what it contains. There are several useful methods and attributes for this.\n",
    "\n",
    "- .head() returns the first few rows (the “head” of the DataFrame).\n",
    "- .info() shows information on each of the columns, such as the data type and number of missing values.\n",
    "- .shape returns the number of rows and columns of the DataFrame.\n",
    "- .describe() calculates a few summary statistics for each column.\n",
    "\n",
    "homelessness is a DataFrame containing estimates of homelessness in each U.S. state in 2018. The individual column is the number of homeless individuals not part of a family with children. The family_members column is the number of homeless individuals part of a family with children. The state_pop column is the state's total population.\n",
    "\n",
    "pandas is imported for you.\n",
    "\n",
    "\n",
    "---\n",
    "\n",
    "\n",
    "Instructions:\n",
    "\n",
    "\n",
    "- Print the head of the homelessness DataFrame."
   ]
  },
  {
   "cell_type": "code",
   "execution_count": null,
   "id": "70c2d7f8",
   "metadata": {},
   "outputs": [],
   "source": [
    "# Print the head of the homelessness data\n",
    "print(homelessness.head())"
   ]
  },
  {
   "cell_type": "markdown",
   "id": "b3b3dc61",
   "metadata": {},
   "source": [
    "- Print information about the column types and missing values in homelessness."
   ]
  },
  {
   "cell_type": "code",
   "execution_count": null,
   "id": "f096bf05",
   "metadata": {},
   "outputs": [],
   "source": [
    "# Print the head of the homelessness data\n",
    "print(homelessness.head())\n",
    "\n",
    "# Print information about homelessness\n",
    "print(homelessness.info())"
   ]
  },
  {
   "cell_type": "markdown",
   "id": "27ccd988",
   "metadata": {},
   "source": [
    "- Print the number of rows and columns in homelessness."
   ]
  },
  {
   "cell_type": "code",
   "execution_count": null,
   "id": "f9e7eb51",
   "metadata": {},
   "outputs": [],
   "source": [
    "# Print the head of the homelessness data\n",
    "print(homelessness.head())\n",
    "\n",
    "# Print information about homelessness\n",
    "print(homelessness.info())\n",
    "\n",
    "# Print the shape of homelessness\n",
    "print(homelessness.shape)"
   ]
  },
  {
   "cell_type": "markdown",
   "id": "c8f624e9",
   "metadata": {},
   "source": [
    "- Print some summary statistics that describe the homelessness DataFrame."
   ]
  },
  {
   "cell_type": "code",
   "execution_count": null,
   "id": "f240ef98",
   "metadata": {},
   "outputs": [],
   "source": [
    "# Print the head of the homelessness data\n",
    "print(homelessness.head())\n",
    "\n",
    "# Print information about homelessness\n",
    "print(homelessness.info())\n",
    "\n",
    "# Print the shape of homelessness\n",
    "print(homelessness.shape)\n",
    "\n",
    "# Print a description of homelessness\n",
    "print(homelessness.describe())"
   ]
  },
  {
   "cell_type": "markdown",
   "id": "db6b07b5",
   "metadata": {},
   "source": [
    "## Parts of a DataFrame\n",
    "\n",
    "To better understand DataFrame objects, it's useful to know that they consist of three components, stored as attributes:\n",
    "\n",
    "- .values: A two-dimensional NumPy array of values.\n",
    "- .columns: An index of columns: the column names.\n",
    "- .index: An index for the rows: either row numbers or row names.\n",
    "\n",
    "You can usually think of indexes as a list of strings or numbers, though the pandas Index data type allows for more sophisticated options. (These will be covered later in the course.)\n",
    "\n",
    "homelessness is available.\n",
    "\n",
    "\n",
    "---\n",
    "\n",
    "\n",
    "Instructions:\n",
    "\n",
    "\n",
    "- Import pandas using the alias pd.\n",
    "\n",
    "\n",
    "- Print a 2D NumPy array of the values in homelessness.\n",
    "\n",
    "\n",
    "- Print the column names of homelessness.\n",
    "\n",
    "\n",
    "- Print the index of homelessness."
   ]
  },
  {
   "cell_type": "code",
   "execution_count": null,
   "id": "f0a6737b",
   "metadata": {},
   "outputs": [],
   "source": [
    "# Import pandas using the alias pd\n",
    "import pandas as pd\n",
    "\n",
    "# Print the values of homelessness\n",
    "print(homelessness.values)\n",
    "\n",
    "# Print the column index of homelessness\n",
    "print(homelessness.columns)\n",
    "\n",
    "# Print the row index of homelessness\n",
    "print(homelessness.index)"
   ]
  },
  {
   "cell_type": "markdown",
   "id": "a864dc06",
   "metadata": {},
   "source": [
    "## Sorting rows\n",
    "\n",
    "Finding interesting bits of data in a DataFrame is often easier if you change the order of the rows. You can sort the rows by passing a column name to .sort_values().\n",
    "\n",
    "In cases where rows have the same value (this is common if you sort on a categorical variable), you may wish to break the ties by sorting on another column. You can sort on multiple columns in this way by passing a list of column names.\n",
    "\n",
    "```\n",
    "Sort on … \t       Syntax\n",
    "one column \t      df.sort_values(\"breed\")\n",
    "multiple columns \tdf.sort_values([\"breed\", \"weight_kg\"])\n",
    "```\n",
    "\n",
    "By combining .sort_values() with .head(), you can answer questions in the form, \"What are the top cases where…?\".\n",
    "\n",
    "homelessness is available and pandas is loaded as pd.\n",
    "\n",
    "\n",
    "---\n",
    "\n",
    "\n",
    "Instructions:\n",
    "\n",
    "\n",
    "- Sort homelessness by the number of homeless individuals, from smallest to largest, and save this as homelessness_ind.\n",
    "\n",
    "\n",
    "- Print the head of the sorted DataFrame."
   ]
  },
  {
   "cell_type": "code",
   "execution_count": null,
   "id": "9e585e96",
   "metadata": {},
   "outputs": [],
   "source": [
    "# Sort homelessness by individuals\n",
    "homelessness_ind = homelessness.sort_values('individuals')\n",
    "\n",
    "# Print the top few rows\n",
    "print(homelessness_ind.head())"
   ]
  },
  {
   "cell_type": "markdown",
   "id": "fd4bcaee",
   "metadata": {},
   "source": [
    "- Sort homelessness by the number of homeless family_members in descending order, and save this as homelessness_fam.\n",
    "\n",
    "\n",
    "- Print the head of the sorted DataFrame."
   ]
  },
  {
   "cell_type": "code",
   "execution_count": null,
   "id": "e8f4ddad",
   "metadata": {},
   "outputs": [],
   "source": [
    "# Sort homelessness by descending family members\n",
    "homelessness_fam = homelessness.sort_values('family_members', ascending=False)\n",
    "\n",
    "# Print the top few rows\n",
    "print(homelessness_fam.head())"
   ]
  },
  {
   "cell_type": "markdown",
   "id": "adafb5ca",
   "metadata": {},
   "source": [
    "- Sort homelessness first by region (ascending), and then by number of family members (descending). Save this as homelessness_reg_fam.\n",
    "\n",
    "\n",
    "- Print the head of the sorted DataFrame."
   ]
  },
  {
   "cell_type": "code",
   "execution_count": null,
   "id": "1551e506",
   "metadata": {},
   "outputs": [],
   "source": [
    "# Sort homelessness by region, then descending family members\n",
    "homelessness_reg_fam = homelessness.sort_values(['region', 'family_members'], ascending=[True, False])\n",
    "\n",
    "# Print the top few rows\n",
    "print(homelessness_reg_fam.head())"
   ]
  },
  {
   "cell_type": "markdown",
   "id": "97ec2f79",
   "metadata": {},
   "source": [
    "## Subsetting columns\n",
    "\n",
    "When working with data, you may not need all of the variables in your dataset. Square brackets ([]) can be used to select only the columns that matter to you in an order that makes sense to you. To select only \"col_a\" of the DataFrame df, use\n",
    "\n",
    "```\n",
    "df[\"col_a\"]\n",
    "```\n",
    "\n",
    "To select \"col_a\" and \"col_b\" of df, use\n",
    "\n",
    "```\n",
    "df[[\"col_a\", \"col_b\"]]\n",
    "```\n",
    "\n",
    "homelessness is available and pandas is loaded as pd.\n",
    "\n",
    "\n",
    "---\n",
    "\n",
    "\n",
    "Instructions:\n",
    "\n",
    "\n",
    "- Create a DataFrame called individuals that contains only the individuals column of homelessness.\n",
    "\n",
    "\n",
    "- Print the head of the result."
   ]
  },
  {
   "cell_type": "code",
   "execution_count": null,
   "id": "0b6009e0",
   "metadata": {},
   "outputs": [],
   "source": [
    "# Select the individuals column\n",
    "individuals = homelessness['individuals']\n",
    "\n",
    "# Print the head of the result\n",
    "print(individuals.head())"
   ]
  },
  {
   "cell_type": "markdown",
   "id": "3e1ca1cd",
   "metadata": {},
   "source": [
    "- Create a DataFrame called state_fam that contains only the state and family_members columns of homelessness, in that order.\n",
    "\n",
    "\n",
    "- Print the head of the result."
   ]
  },
  {
   "cell_type": "code",
   "execution_count": null,
   "id": "af5b674e",
   "metadata": {},
   "outputs": [],
   "source": [
    "# Select the state and family_members columns\n",
    "state_fam = homelessness[['state', 'family_members']]\n",
    "\n",
    "# Print the head of the result\n",
    "print(state_fam.head())"
   ]
  },
  {
   "cell_type": "markdown",
   "id": "0d018cf9",
   "metadata": {},
   "source": [
    "- Create a DataFrame called ind_state that contains the individuals and state columns of homelessness, in that order.\n",
    "\n",
    "\n",
    "- Print the head of the result."
   ]
  },
  {
   "cell_type": "code",
   "execution_count": null,
   "id": "1af0d24b",
   "metadata": {},
   "outputs": [],
   "source": [
    "# Select only the individuals and state columns, in that order\n",
    "ind_state = homelessness[['individuals', 'state']]\n",
    "\n",
    "# Print the head of the result\n",
    "print(ind_state.head())"
   ]
  },
  {
   "cell_type": "markdown",
   "id": "66cbaab5",
   "metadata": {},
   "source": [
    "## Subsetting rows\n",
    "\n",
    "A large part of data science is about finding which bits of your dataset are interesting. One of the simplest techniques for this is to find a subset of rows that match some criteria. This is sometimes known as filtering rows or selecting rows.\n",
    "\n",
    "There are many ways to subset a DataFrame, perhaps the most common is to use relational operators to return True or False for each row, then pass that inside square brackets.\n",
    "\n",
    "```\n",
    "dogs[dogs[\"height_cm\"] > 60]\n",
    "dogs[dogs[\"color\"] == \"tan\"]\n",
    "```\n",
    "\n",
    "You can filter for multiple conditions at once by using the \"bitwise and\" operator, &.\n",
    "\n",
    "```\n",
    "dogs[(dogs[\"height_cm\"] > 60) & (dogs[\"color\"] == \"tan\")]\n",
    "```\n",
    "\n",
    "homelessness is available and pandas is loaded as pd.\n",
    "\n",
    "\n",
    "---\n",
    "\n",
    "\n",
    "Instructions:\n",
    "\n",
    "\n",
    "- Filter homelessness for cases where the number of individuals is greater than ten thousand, assigning to ind_gt_10k. View the printed result."
   ]
  },
  {
   "cell_type": "code",
   "execution_count": null,
   "id": "70fa77cf",
   "metadata": {},
   "outputs": [],
   "source": [
    "# Filter for rows where individuals is greater than 10000\n",
    "ind_gt_10k = homelessness[homelessness['individuals'] > 10000]\n",
    "\n",
    "# See the result\n",
    "print(ind_gt_10k)"
   ]
  },
  {
   "cell_type": "markdown",
   "id": "d89bba0c",
   "metadata": {},
   "source": [
    "- Filter homelessness for cases where the USA Census region is \"Mountain\", assigning to mountain_reg. View the printed result."
   ]
  },
  {
   "cell_type": "code",
   "execution_count": null,
   "id": "4079ffe9",
   "metadata": {},
   "outputs": [],
   "source": [
    "# Filter for rows where region is Mountain\n",
    "mountain_reg = homelessness[homelessness['region'] == 'Mountain']\n",
    "\n",
    "# See the result\n",
    "print(mountain_reg)"
   ]
  },
  {
   "cell_type": "markdown",
   "id": "94c98229",
   "metadata": {},
   "source": [
    "- Filter homelessness for cases where the number of family_members is less than one thousand and the region is \"Pacific\", assigning to fam_lt_1k_pac. View the printed result."
   ]
  },
  {
   "cell_type": "code",
   "execution_count": null,
   "id": "5a62098f",
   "metadata": {},
   "outputs": [],
   "source": [
    "# Filter for rows where family_members is less than 1000 \n",
    "# and region is Pacific\n",
    "fam_lt_1k_pac = homelessness[(homelessness['family_members'] < 1000) & (homelessness['region'] == 'Pacific')]\n",
    "\n",
    "# See the result\n",
    "print(fam_lt_1k_pac)"
   ]
  },
  {
   "cell_type": "markdown",
   "id": "f85d0e80",
   "metadata": {},
   "source": [
    "## Subsetting rows by categorical variables\n",
    "\n",
    "Subsetting data based on a categorical variable often involves using the \"or\" operator (|) to select rows from multiple categories. This can get tedious when you want all states in one of three different regions, for example. Instead, use the .isin() method, which will allow you to tackle this problem by writing one condition instead of three separate ones.\n",
    "\n",
    "```\n",
    "colors = [\"brown\", \"black\", \"tan\"]\n",
    "condition = dogs[\"color\"].isin(colors)\n",
    "dogs[condition]\n",
    "```\n",
    "\n",
    "homelessness is available and pandas is loaded as pd.\n",
    "\n",
    "\n",
    "---\n",
    "\n",
    "\n",
    "Instructions:\n",
    "\n",
    "\n",
    "- Filter homelessness for cases where the USA census region is \"South Atlantic\" or it is \"Mid-Atlantic\", assigning to south_mid_atlantic. View the printed result."
   ]
  },
  {
   "cell_type": "code",
   "execution_count": null,
   "id": "7b96aaa6",
   "metadata": {},
   "outputs": [],
   "source": [
    "# Subset for rows in South Atlantic or Mid-Atlantic regions\n",
    "south_mid_atlantic = homelessness[(homelessness['region'] == 'South Atlantic') | (homelessness['region'] == 'Mid-Atlantic')]\n",
    "\n",
    "# See the result\n",
    "print(south_mid_atlantic)"
   ]
  },
  {
   "cell_type": "markdown",
   "id": "9a3141f4",
   "metadata": {},
   "source": [
    "- Filter homelessness for cases where the USA census state is in the list of Mojave states, canu, assigning to mojave_homelessness. View the printed result."
   ]
  },
  {
   "cell_type": "code",
   "execution_count": null,
   "id": "9cf314b7",
   "metadata": {},
   "outputs": [],
   "source": [
    "# The Mojave Desert states\n",
    "canu = [\"California\", \"Arizona\", \"Nevada\", \"Utah\"]\n",
    "\n",
    "# Filter for rows in the Mojave Desert states\n",
    "mojave_homelessness = homelessness[homelessness[\"state\"].isin(canu)]\n",
    "\n",
    "# See the result\n",
    "print(mojave_homelessness)"
   ]
  },
  {
   "cell_type": "markdown",
   "id": "4db01fe7",
   "metadata": {},
   "source": [
    "## Adding new columns\n",
    "\n",
    "You aren't stuck with just the data you are given. Instead, you can add new columns to a DataFrame. This has many names, such as transforming, mutating, and feature engineering.\n",
    "\n",
    "You can create new columns from scratch, but it is also common to derive them from other columns, for example, by adding columns together or by changing their units.\n",
    "\n",
    "homelessness is available and pandas is loaded as pd.\n",
    "\n",
    "\n",
    "---\n",
    "\n",
    "\n",
    "Instructions:\n",
    "\n",
    "\n",
    "- Add a new column to homelessness, named total, containing the sum of the individuals and family_members columns.\n",
    "\n",
    "\n",
    "- Add another column to homelessness, named p_individuals, containing the proportion of homeless people in each state who are individuals."
   ]
  },
  {
   "cell_type": "code",
   "execution_count": null,
   "id": "9b0e0b38",
   "metadata": {},
   "outputs": [],
   "source": [
    "# Add total col as sum of individuals and family_members\n",
    "homelessness['total'] = homelessness['individuals'] + homelessness['family_members']\n",
    "\n",
    "# Add p_individuals col as proportion of total that are individuals\n",
    "homelessness['p_individuals'] = homelessness['individuals'] / homelessness['total']\n",
    "\n",
    "# See the result\n",
    "print(homelessness)"
   ]
  },
  {
   "cell_type": "markdown",
   "id": "c997e1d5",
   "metadata": {},
   "source": [
    "## Combo-attack!\n",
    "\n",
    "You've seen the four most common types of data manipulation: sorting rows, subsetting columns, subsetting rows, and adding new columns. In a real-life data analysis, you can mix and match these four manipulations to answer a multitude of questions.\n",
    "\n",
    "In this exercise, you'll answer the question, \"Which state has the highest number of homeless individuals per 10,000 people in the state?\" Combine your new pandas skills to find out.\n",
    "\n",
    "\n",
    "---\n",
    "\n",
    "\n",
    "Instructions:\n",
    "\n",
    "\n",
    "- Add a column to homelessness, indiv_per_10k, containing the number of homeless individuals per ten thousand people in each state.\n",
    "\n",
    "\n",
    "- Subset rows where indiv_per_10k is higher than 20, assigning to high_homelessness.\n",
    "\n",
    "\n",
    "- Sort high_homelessness by descending indiv_per_10k, assigning to high_homelessness_srt.\n",
    "\n",
    "\n",
    "- Select only the state and indiv_per_10k columns of high_homelessness_srt and save as result. Look at the result."
   ]
  },
  {
   "cell_type": "code",
   "execution_count": null,
   "id": "298ccf11",
   "metadata": {},
   "outputs": [],
   "source": [
    "# Create indiv_per_10k col as homeless individuals per 10k state pop\n",
    "homelessness[\"indiv_per_10k\"] = 10000 * homelessness['individuals'] / homelessness['state_pop']\n",
    "\n",
    "# Subset rows for indiv_per_10k greater than 20\n",
    "high_homelessness = homelessness[homelessness['indiv_per_10k'] > 20]\n",
    "\n",
    "# Sort high_homelessness by descending indiv_per_10k\n",
    "high_homelessness_srt = high_homelessness.sort_values('indiv_per_10k', ascending=False)\n",
    "\n",
    "# From high_homelessness_srt, select the state and indiv_per_10k cols\n",
    "result = high_homelessness_srt[['state', 'indiv_per_10k']]\n",
    "\n",
    "# See the result\n",
    "print(result)"
   ]
  }
 ],
 "metadata": {
  "kernelspec": {
   "display_name": "Python 3 (ipykernel)",
   "language": "python",
   "name": "python3"
  },
  "language_info": {
   "codemirror_mode": {
    "name": "ipython",
    "version": 3
   },
   "file_extension": ".py",
   "mimetype": "text/x-python",
   "name": "python",
   "nbconvert_exporter": "python",
   "pygments_lexer": "ipython3",
   "version": "3.9.2"
  }
 },
 "nbformat": 4,
 "nbformat_minor": 5
}
